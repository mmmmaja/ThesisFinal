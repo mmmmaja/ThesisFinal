{
 "cells": [
  {
   "cell_type": "code",
   "execution_count": 1,
   "outputs": [],
   "source": [
    "import pandas as pd\n",
    "from sklearn.preprocessing import OneHotEncoder\n",
    "from matplotlib import pyplot as plt\n",
    "from matplotlib import image\n",
    "from sklearn.cross_decomposition import PLSRegression\n",
    "from helper import *\n",
    "import seaborn as sns\n",
    "import plotly.express as px\n",
    "from sklearn.model_selection import RepeatedStratifiedKFold\n",
    "import numpy as np\n",
    "from imblearn.pipeline import Pipeline\n",
    "from sklearn.model_selection import GridSearchCV\n",
    "from sklearn.linear_model import LogisticRegression\n",
    "from sklearn.metrics import accuracy_score, confusion_matrix, recall_score, precision_score, f1_score\n",
    "from feature_selection import filter_omics\n",
    "# Suppress warnings\n",
    "import warnings\n",
    "from sklearn.metrics import roc_curve, auc\n",
    "from feature_selection import venn_diagram\n",
    "warnings.filterwarnings('ignore')"
   ],
   "metadata": {
    "collapsed": false,
    "ExecuteTime": {
     "end_time": "2024-04-14T16:59:09.608330300Z",
     "start_time": "2024-04-14T16:59:07.351311400Z"
    }
   },
   "id": "4bb12662335eacd"
  },
  {
   "cell_type": "code",
   "execution_count": 10,
   "outputs": [
    {
     "name": "stdout",
     "output_type": "stream",
     "text": [
      "Training set shape:  (58, 581)\n",
      "Testing set shape:  (38, 581)\n",
      "Training set shape:  (58, 216)\n",
      "Testing set shape:  (38, 216)\n",
      "Training set shape:  (58, 323)\n",
      "Testing set shape:  (38, 323)\n"
     ]
    }
   ],
   "source": [
    "path = \"C:/Users/mjgoj/Desktop/THESIS/data/final_dataset_split.xlsx\"\n",
    "xls = pd.ExcelFile(path)\n",
    "\n",
    "lipidomics = pd.read_excel(xls, \"Lipidomics\")\n",
    "metabolomics = pd.read_excel(xls, \"Pareto Metabolomics\")\n",
    "proteomics = pd.read_excel(xls, \"Pareto Proteomics\")\n",
    "\n",
    "lipidomics_train, lipidomics_test = get_train_test_split_dataset(lipidomics)\n",
    "metabolomics_train, metabolomics_test = get_train_test_split_dataset(metabolomics)\n",
    "proteomics_train, proteomics_test = get_train_test_split_dataset(proteomics)\n",
    "\n",
    "Y_train = metabolomics_train[\"TwoClass\"]\n",
    "Y_test = metabolomics_test[\"TwoClass\"]\n",
    "\n",
    "mapping = {1: 0, 2: 1}\n",
    "if 2 in np.unique(Y_train):\n",
    "    Y_train = Y_train.map(mapping)\n",
    "    Y_test = Y_test.map(mapping)"
   ],
   "metadata": {
    "collapsed": false,
    "ExecuteTime": {
     "end_time": "2024-04-14T17:04:52.310843Z",
     "start_time": "2024-04-14T17:04:50.794267200Z"
    }
   },
   "id": "initial_id"
  },
  {
   "cell_type": "code",
   "execution_count": 4,
   "outputs": [],
   "source": [
    "%load_ext rpy2.ipython"
   ],
   "metadata": {
    "collapsed": false,
    "ExecuteTime": {
     "end_time": "2024-04-14T17:00:12.902138200Z",
     "start_time": "2024-04-14T17:00:12.211569300Z"
    }
   },
   "id": "4293b9a3b469e870"
  },
  {
   "cell_type": "markdown",
   "source": [
    "### Obtaining the Input Data"
   ],
   "metadata": {
    "collapsed": false
   },
   "id": "3c134bf4188f7571"
  },
  {
   "cell_type": "code",
   "execution_count": 17,
   "outputs": [
    {
     "name": "stdout",
     "output_type": "stream",
     "text": [
      "Metabolomics   Lipidomics   Proteomics \n",
      "          58           58           58 \n"
     ]
    }
   ],
   "source": [
    "%%R -i lipidomics_train -i lipidomics_test -i metabolomics_train -i metabolomics_test -i proteomics_train -i proteomics_test\n",
    "\n",
    "library(readxl) \n",
    "library(mixOmics)\n",
    "library(reshape2)\n",
    "\n",
    "X.train <- list(\n",
    "  Metabolomics = metabolomics_train,\n",
    "  Lipidomics = lipidomics_train,\n",
    "  Proteomics = proteomics_train\n",
    ")\n",
    "\n",
    "X.test <- list(\n",
    "  Metabolomics = metabolomics_test,\n",
    "  Lipidomics = lipidomics_test,\n",
    "  Proteomics = proteomics_test\n",
    ")\n",
    "\n",
    "sapply(X.train, nrow)"
   ],
   "metadata": {
    "collapsed": false,
    "ExecuteTime": {
     "end_time": "2024-04-14T17:06:55.014666800Z",
     "start_time": "2024-04-14T17:06:54.217905100Z"
    }
   },
   "id": "ee9cb3211d9fb359"
  },
  {
   "cell_type": "markdown",
   "source": [
    "Creating the Design Matrix"
   ],
   "metadata": {
    "collapsed": false
   },
   "id": "4e81546dabd0e1e0"
  },
  {
   "cell_type": "code",
   "execution_count": 22,
   "outputs": [
    {
     "name": "stdout",
     "output_type": "stream",
     "text": [
      "             Metabolomics Lipidomics Proteomics\n",
      "Metabolomics          0.0        0.1        0.1\n",
      "Lipidomics            0.1        0.0        0.1\n",
      "Proteomics            0.1        0.1        0.0\n"
     ]
    },
    {
     "data": {
      "text/plain": "Design matrix has changed to include Y; each block will be\n            linked to Y.\n"
     },
     "metadata": {},
     "output_type": "display_data"
    }
   ],
   "source": [
    "%%R\n",
    "names <- c(\"Metabolomics\", \"Lipidomics\", \"Proteomics\")\n",
    "RELATIONSHIP_STRENGTH <- 0.1\n",
    "\n",
    "design = matrix(\n",
    "  RELATIONSHIP_STRENGTH, ncol=3, nrow=3, \n",
    "  dimnames = list(names, names)\n",
    ")\n",
    "diag(design) = 0 # set diagonal to 0s\n",
    "\n",
    "print(design)\n",
    "\n",
    "basic.diablo.model = block.splsda(\n",
    "  X=X.train, Y=Y_train, ncomp=10, design=design\n",
    ") "
   ],
   "metadata": {
    "collapsed": false,
    "ExecuteTime": {
     "end_time": "2024-04-14T17:11:49.153770300Z",
     "start_time": "2024-04-14T17:11:48.982914400Z"
    }
   },
   "id": "c541d7f05958d832"
  },
  {
   "cell_type": "markdown",
   "source": [
    "Tuning the initial model"
   ],
   "metadata": {
    "collapsed": false
   },
   "id": "f37b1f7e8b2ad676"
  },
  {
   "cell_type": "code",
   "execution_count": 24,
   "outputs": [
    {
     "data": {
      "image/png": "[encoded data removed]",
      "text/plain": "<IPython.core.display.Image object>"
     },
     "metadata": {},
     "output_type": "display_data"
    }
   ],
   "source": [
    "%%R\n",
    "perf.diablo = perf(\n",
    "  basic.diablo.model, validation = 'Mfold', progressBar = FALSE,\n",
    "  dist='all', folds = 10, nrepeat = 20) \n",
    "\n",
    "# Plot the output of tuning\n",
    "plot(perf.diablo, col = color.mixo(4:6)) "
   ],
   "metadata": {
    "collapsed": false,
    "ExecuteTime": {
     "end_time": "2024-04-14T17:15:55.200111500Z",
     "start_time": "2024-04-14T17:14:21.294210200Z"
    }
   },
   "id": "313e4f14908e178"
  },
  {
   "cell_type": "code",
   "execution_count": 38,
   "outputs": [
    {
     "name": "stdout",
     "output_type": "stream",
     "text": [
      "            max.dist centroids.dist mahalanobis.dist\n",
      "Overall.ER         9              5                7\n",
      "Overall.BER        9              6                7\n",
      "[1] 7\n"
     ]
    }
   ],
   "source": [
    "%%R\n",
    "print(perf.diablo$choice.ncomp$WeightedVote)\n",
    "\n",
    "# Get the number of components according to BER and Mahalanobis distance\n",
    "ncomp <- perf.diablo$choice.ncomp$WeightedVote[2,3]\n",
    "print(ncomp)"
   ],
   "metadata": {
    "collapsed": false,
    "ExecuteTime": {
     "end_time": "2024-04-14T17:18:26.644419Z",
     "start_time": "2024-04-14T17:18:26.609660700Z"
    }
   },
   "id": "82224639248cb6ec"
  },
  {
   "cell_type": "code",
   "execution_count": 44,
   "outputs": [
    {
     "data": {
      "text/plain": "Design matrix has changed to include Y; each block will be\n            linked to Y.\n"
     },
     "metadata": {},
     "output_type": "display_data"
    },
    {
     "data": {
      "image/png": "[encoded data removed]",
      "text/plain": "<IPython.core.display.Image object>"
     },
     "metadata": {},
     "output_type": "display_data"
    }
   ],
   "source": [
    "%%R\n",
    "final.diablo.model = block.splsda(\n",
    "   X=X.train, Y=Y_train, \n",
    "   design=design, ncomp = ncomp\n",
    ")\n",
    "plotDiablo(final.diablo.model, ncomp = 1)"
   ],
   "metadata": {
    "collapsed": false,
    "ExecuteTime": {
     "end_time": "2024-04-14T17:22:07.609120500Z",
     "start_time": "2024-04-14T17:22:07.469239200Z"
    }
   },
   "id": "d403e31fd9762938"
  },
  {
   "cell_type": "code",
   "execution_count": 46,
   "outputs": [
    {
     "data": {
      "image/png": "[encoded data removed]",
      "text/plain": "<IPython.core.display.Image object>"
     },
     "metadata": {},
     "output_type": "display_data"
    }
   ],
   "source": [
    "%%R\n",
    "plotIndiv(final.diablo.model, ind.names = FALSE, legend = TRUE, title = 'Indiv')"
   ],
   "metadata": {
    "collapsed": false,
    "ExecuteTime": {
     "end_time": "2024-04-14T17:22:50.076449100Z",
     "start_time": "2024-04-14T17:22:49.546854200Z"
    }
   },
   "id": "7f44ce76023770f0"
  },
  {
   "cell_type": "code",
   "execution_count": 47,
   "outputs": [
    {
     "data": {
      "image/png": "[encoded data removed]",
      "text/plain": "<IPython.core.display.Image object>"
     },
     "metadata": {},
     "output_type": "display_data"
    }
   ],
   "source": [
    "%%R\n",
    "plotArrow(final.diablo.model, ind.names = FALSE, legend = TRUE, \n",
    "          title = 'DIABLO')"
   ],
   "metadata": {
    "collapsed": false,
    "ExecuteTime": {
     "end_time": "2024-04-14T17:23:13.995913900Z",
     "start_time": "2024-04-14T17:23:13.345306300Z"
    }
   },
   "id": "50a5a02f704bdc38"
  }
 ],
 "metadata": {
  "kernelspec": {
   "display_name": "Python 3",
   "language": "python",
   "name": "python3"
  },
  "language_info": {
   "codemirror_mode": {
    "name": "ipython",
    "version": 2
   },
   "file_extension": ".py",
   "mimetype": "text/x-python",
   "name": "python",
   "nbconvert_exporter": "python",
   "pygments_lexer": "ipython2",
   "version": "2.7.6"
  }
 },
 "nbformat": 4,
 "nbformat_minor": 5
}
