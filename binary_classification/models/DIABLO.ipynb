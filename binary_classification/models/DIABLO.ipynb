{
 "cells": [
  {
   "cell_type": "markdown",
   "source": [
    "# DIABLO \n",
    "### (Data Integration Analysis for Biomarker discovery using Latent cOmponents) \n",
    "\n",
    "Code adapted from [mixOmics](http://mixomics.org/mixdiablo/diablo-tcga-case-study/) documentation.\n",
    "\n",
    "**How does DIABLO work?**\n",
    "DIABLO is an extension of the PLS-DA method, adapted for multi-block data integration, which means it can handle multiple dataset simultaneously. \n",
    "The primary goal of DIABLO is to identify a subset of features from each dataset that are not only discriminative of the conditions or classes in the study but are also correlated across the different datasets.\n",
    "\n",
    " DIABLO integrates data from different sources (blocks) by finding latent components that are correlated across these blocks while still being able to discriminate between conditions or classes in the data.\n",
    " Like sPLS-DA, DIABLO uses sparsity to select a limited number of features in each block, which contributes to the model. This is achieved using L1-penalization, which forces some loadings to shrink to zero.\n",
    " \n",
    "**In this notebook, we will:**\n",
    "Create a DIABLO model for binary classification (Decliners vs Stable) using the metabolomics, lipidomics, and proteomics datasets. This will include:\n",
    "- Creating the design matrix to specify the relationships between the datasets\n",
    "- Tuning the number of components to be used\n",
    "- Tuning the number of features to be selected\n",
    "- Building the final DIABLO model\n",
    "- Evaluating the model performance"
   ],
   "metadata": {
    "collapsed": false
   },
   "id": "ecc5a39216847e"
  },
  {
   "cell_type": "code",
   "execution_count": 1,
   "outputs": [],
   "source": [
    "import os\n",
    "# Set the environment variables\n",
    "os.environ[\"R_HOME\"] = r\"C:\\Program Files\\R\\R-4.4.0\"\n",
    "os.environ[\"PATH\"]   = r\"C:\\Program Files\\R\\R-4.4.0\\bin\\x64\" + \";\" + os.environ[\"PATH\"]"
   ],
   "metadata": {
    "collapsed": false,
    "ExecuteTime": {
     "end_time": "2024-06-15T10:54:04.115550500Z",
     "start_time": "2024-06-15T10:54:04.084201100Z"
    }
   },
   "id": "96e7e939b9c955ac"
  },
  {
   "cell_type": "code",
   "execution_count": 2,
   "outputs": [
    {
     "name": "stderr",
     "output_type": "stream",
     "text": [
      "C:\\Users\\mjgoj\\miniconda3\\Lib\\site-packages\\openpyxl\\worksheet\\_reader.py:312: UserWarning: Unknown extension is not supported and will be removed\n",
      "  warn(msg)\n"
     ]
    }
   ],
   "source": [
    "from methods.helper import *\n",
    "# Suppress warnings\n",
    "import warnings\n",
    "warnings.filterwarnings('ignore')"
   ],
   "metadata": {
    "collapsed": false,
    "ExecuteTime": {
     "end_time": "2024-06-15T10:54:10.637282600Z",
     "start_time": "2024-06-15T10:54:04.094238100Z"
    }
   },
   "id": "4bb12662335eacd"
  },
  {
   "cell_type": "code",
   "execution_count": 4,
   "outputs": [],
   "source": [
    "%load_ext rpy2.ipython"
   ],
   "metadata": {
    "collapsed": false,
    "ExecuteTime": {
     "end_time": "2024-06-15T10:54:15.446824600Z",
     "start_time": "2024-06-15T10:54:11.476796800Z"
    }
   },
   "id": "992177beabca0851"
  },
  {
   "cell_type": "markdown",
   "source": [
    "Loading the three omics datasets and splitting it into predefined train / test split (60 -40)"
   ],
   "metadata": {
    "collapsed": false
   },
   "id": "bee22560fc1336a7"
  },
  {
   "cell_type": "code",
   "execution_count": 3,
   "outputs": [],
   "source": [
    "# Load data\n",
    "lipidomics, metabolomics, proteomics = load_data()"
   ],
   "metadata": {
    "collapsed": false,
    "ExecuteTime": {
     "end_time": "2024-06-15T10:54:10.637282600Z",
     "start_time": "2024-06-15T10:54:10.633519100Z"
    }
   },
   "id": "65127022d16140ed"
  },
  {
   "cell_type": "code",
   "execution_count": 5,
   "outputs": [],
   "source": [
    "# Get the train - test split\n",
    "lipidomics_train, lipidomics_test = get_train_test_split_dataset(lipidomics)\n",
    "metabolomics_train, metabolomics_test = get_train_test_split_dataset(metabolomics)\n",
    "proteomics_train, proteomics_test = get_train_test_split_dataset(proteomics)\n",
    "    \n",
    "Y_train, Y_test = metabolomics_train[\"TwoClass\"], metabolomics_test[\"TwoClass\"]\n",
    "Y_train, Y_test = Y_train.astype('int'), Y_test.astype('int')"
   ],
   "metadata": {
    "collapsed": false,
    "ExecuteTime": {
     "end_time": "2024-06-15T10:54:15.466862Z",
     "start_time": "2024-06-15T10:54:15.449965200Z"
    }
   },
   "id": "fd060b1f2dfbffa8"
  },
  {
   "cell_type": "code",
   "execution_count": 6,
   "outputs": [],
   "source": [
    "# Remove the class column from the datasets and leave only features\n",
    "lipidomics_train = lipidomics_train.drop(columns=[\"TwoClass\", \"RID\", \"ThreeClass\"])\n",
    "lipidomics_test = lipidomics_test.drop(columns=[\"TwoClass\", \"RID\", \"ThreeClass\"])\n",
    "metabolomics_train = metabolomics_train.drop(columns=[\"TwoClass\", \"RID\", \"ThreeClass\"])\n",
    "metabolomics_test = metabolomics_test.drop(columns=[\"TwoClass\", \"RID\", \"ThreeClass\"])\n",
    "proteomics_train = proteomics_train.drop(columns=[\"TwoClass\", \"RID\", \"ThreeClass\"])\n",
    "proteomics_test = proteomics_test.drop(columns=[\"TwoClass\", \"RID\", \"ThreeClass\"])"
   ],
   "metadata": {
    "collapsed": false,
    "ExecuteTime": {
     "end_time": "2024-06-15T10:54:15.490482700Z",
     "start_time": "2024-06-15T10:54:15.474888400Z"
    }
   },
   "id": "5c3121902c6aa7dd"
  },
  {
   "cell_type": "markdown",
   "source": [
    "Changing the format of the input data to match MixOmics package specifications,\n",
    "Since a DIABLO model is only implemented in R language, I will use the R cells within the notebook"
   ],
   "metadata": {
    "collapsed": false
   },
   "id": "3c134bf4188f7571"
  },
  {
   "cell_type": "code",
   "execution_count": 7,
   "outputs": [
    {
     "name": "stderr",
     "output_type": "stream",
     "text": [
      "R[write to console]: Loading required package: MASS\n",
      "\n",
      "R[write to console]: Loading required package: lattice\n",
      "\n",
      "R[write to console]: Loading required package: ggplot2\n",
      "\n",
      "R[write to console]: \n",
      "Loaded mixOmics 6.28.0\n",
      "Thank you for using mixOmics!\n",
      "Tutorials: http://mixomics.org\n",
      "Bookdown vignette: https://mixomicsteam.github.io/Bookdown\n",
      "Questions, issues: Follow the prompts at http://mixomics.org/contact-us\n",
      "Cite us:  citation('mixOmics')\n",
      "\n",
      "\n"
     ]
    },
    {
     "name": "stdout",
     "output_type": "stream",
     "text": [
      "Metabolomics   Lipidomics   Proteomics \n",
      "          58           58           58 \n"
     ]
    }
   ],
   "source": [
    "%%R -i lipidomics_train -i lipidomics_test -i metabolomics_train -i metabolomics_test -i proteomics_train -i proteomics_test -i Y_train -i Y_test\n",
    "# Passing the data to the R cell\n",
    "\n",
    "# Read the required libraries\n",
    "library(readxl) \n",
    "library(mixOmics)\n",
    "library(reshape2)\n",
    "\n",
    "# Get the data in a format required by the MixOmics models\n",
    "X.train <- list(\n",
    "  Metabolomics = metabolomics_train,\n",
    "  Lipidomics = lipidomics_train,\n",
    "  Proteomics = proteomics_train\n",
    ")\n",
    "\n",
    "X.test <- list(\n",
    "  Metabolomics = metabolomics_test,\n",
    "  Lipidomics = lipidomics_test,\n",
    "  Proteomics = proteomics_test\n",
    ")\n",
    "\n",
    "# Double checking the size of the dataset\n",
    "sapply(X.train, nrow)"
   ],
   "metadata": {
    "collapsed": false,
    "ExecuteTime": {
     "end_time": "2024-06-15T10:54:23.291304600Z",
     "start_time": "2024-06-15T10:54:15.901553300Z"
    }
   },
   "id": "ee9cb3211d9fb359"
  },
  {
   "cell_type": "markdown",
   "source": [
    "### Determining Correlation between the datasets\n",
    "\n",
    "Generating the **pairwise PLS comparisons** with one omics datasets. I will plot the correlation between the top n features of omics data type."
   ],
   "metadata": {
    "collapsed": false
   },
   "id": "f3dc55d737e8cb3e"
  },
  {
   "cell_type": "code",
   "execution_count": 8,
   "outputs": [],
   "source": [
    "%%R\n",
    "n <- 40  # How many variables to select in each data set\n",
    "list.keepX <- c(n, n)\n",
    "list.keepY <- c(n, n)\n",
    "\n",
    "# generate three pairwise PLS models\n",
    "pls1 <- spls(\n",
    "    metabolomics_train, lipidomics_train, \n",
    "    keepX = list.keepX, keepY = list.keepY)\n",
    "    \n",
    "pls2 <- spls(\n",
    "    metabolomics_train, proteomics_train, \n",
    "    keepX = list.keepX, keepY = list.keepY)\n",
    "    \n",
    "pls3 <- spls(\n",
    "    lipidomics_train, proteomics_train, \n",
    "    keepX = list.keepX, keepY = list.keepY)"
   ],
   "metadata": {
    "collapsed": false,
    "ExecuteTime": {
     "end_time": "2024-06-15T10:54:23.486746Z",
     "start_time": "2024-06-15T10:54:23.196957800Z"
    }
   },
   "id": "2323f3777b29547"
  },
  {
   "cell_type": "code",
   "execution_count": 9,
   "outputs": [],
   "source": [
    "%%R\n",
    "CUTOFF = 0.4 # Significance cutoff\n",
    "color_map <- c('darkorchid', 'lightgreen', 'coral')"
   ],
   "metadata": {
    "collapsed": false,
    "ExecuteTime": {
     "end_time": "2024-06-15T10:54:23.506786500Z",
     "start_time": "2024-06-15T10:54:23.489868100Z"
    }
   },
   "id": "116f834bf861f87"
  },
  {
   "cell_type": "code",
   "execution_count": 10,
   "outputs": [
    {
     "name": "stdout",
     "output_type": "stream",
     "text": [
      "          comp1        comp2\n",
      "comp1 0.9302222 7.267450e-17\n",
      "comp2 0.0595647 8.730815e-01\n",
      "Correlation of metabolomics and lipidomics datasets:  0.9302222"
     ]
    },
    {
     "data": {
      "image/png": "[encoded data removed]",
      "text/plain": "<IPython.core.display.Image object>"
     },
     "metadata": {},
     "output_type": "display_data"
    }
   ],
   "source": [
    "%%R\n",
    "# Creating the Circle Correlation Plots\n",
    "# Set the size of the plot\n",
    "options(repr.plot.width=35, repr.plot.height=10)\n",
    "plotVar(\n",
    "    pls1, cutoff = CUTOFF, title = \"Metabolomics vs Lipidomics\", \n",
    "    col = color_map[1:2], style='lattice',\n",
    "    var.names = FALSE, pch = c(16, 17), cex = c(2,2))\n",
    "    \n",
    "print(cor(pls1$variates$X, pls1$variates$Y))\n",
    "relation_met_lip <- cor(pls1$variates$X, pls1$variates$Y)[1, 1]\n",
    "cat(\"Correlation of metabolomics and lipidomics datasets: \", relation_met_lip)"
   ],
   "metadata": {
    "collapsed": false,
    "ExecuteTime": {
     "end_time": "2024-06-15T10:54:23.736817200Z",
     "start_time": "2024-06-15T10:54:23.508908600Z"
    }
   },
   "id": "f5804e0a8a4f28f4"
  },
  {
   "cell_type": "code",
   "execution_count": 11,
   "outputs": [
    {
     "name": "stdout",
     "output_type": "stream",
     "text": [
      "           comp1        comp2\n",
      "comp1 0.50601622 3.465046e-17\n",
      "comp2 0.04333592 5.230141e-01\n",
      "Correlation of metabolomics and proteomics datasets:  0.5060162"
     ]
    },
    {
     "data": {
      "image/png": "[encoded data removed]",
      "text/plain": "<IPython.core.display.Image object>"
     },
     "metadata": {},
     "output_type": "display_data"
    }
   ],
   "source": [
    "%%R\n",
    "plotVar(\n",
    "    pls2, cutoff = CUTOFF, title = \"Metabolomics vs Proteomics\", \n",
    "    col = c(color_map[1], color_map[3]), style='lattice',\n",
    "    var.names = FALSE, pch = c(16, 17), cex = c(2,2))\n",
    "    \n",
    "print(cor(pls2$variates$X, pls2$variates$Y))\n",
    "relation_met_prot <- cor(pls2$variates$X, pls2$variates$Y)[1, 1]\n",
    "cat(\"Correlation of metabolomics and proteomics datasets: \", relation_met_prot)"
   ],
   "metadata": {
    "collapsed": false,
    "ExecuteTime": {
     "end_time": "2024-06-15T10:54:23.914806300Z",
     "start_time": "2024-06-15T10:54:23.674732700Z"
    }
   },
   "id": "daa0fde96ce0c895"
  },
  {
   "cell_type": "code",
   "execution_count": 12,
   "outputs": [
    {
     "name": "stdout",
     "output_type": "stream",
     "text": [
      "           comp1         comp2\n",
      "comp1  0.6356547 -2.460562e-16\n",
      "comp2 -0.3632144  6.110303e-01\n",
      "Correlation of lipidomics and proteomics datasets:  0.6356547"
     ]
    },
    {
     "data": {
      "image/png": "[encoded data removed]",
      "text/plain": "<IPython.core.display.Image object>"
     },
     "metadata": {},
     "output_type": "display_data"
    }
   ],
   "source": [
    "%%R\n",
    "plotVar(\n",
    "    pls3, cutoff = CUTOFF, title = \"Lipidomics vs Proteomics\", \n",
    "    col = color_map[2:3], style='lattice',\n",
    "    var.names = FALSE, pch = c(16, 17), cex = c(2,2))\n",
    "print(cor(pls3$variates$X, pls3$variates$Y))\n",
    "relation_lip_prot <- cor(pls3$variates$X, pls3$variates$Y)[1, 1]\n",
    "cat(\"Correlation of lipidomics and proteomics datasets: \", relation_lip_prot)"
   ],
   "metadata": {
    "collapsed": false,
    "ExecuteTime": {
     "end_time": "2024-06-15T10:54:23.951457800Z",
     "start_time": "2024-06-15T10:54:23.769229100Z"
    }
   },
   "id": "b07ab0ac1f66f85e"
  },
  {
   "cell_type": "markdown",
   "source": [
    "### Creating the Design Matrix\n",
    "\n",
    "As written in the MixOMics documentation _Design_ refers to the relationship structure between the various inputted dataframes. In this matrix each value (between 0-1) represents the strength of the relationship to be modeled between two given omics types."
   ],
   "metadata": {
    "collapsed": false
   },
   "id": "4e81546dabd0e1e0"
  },
  {
   "cell_type": "code",
   "execution_count": 13,
   "outputs": [
    {
     "name": "stdout",
     "output_type": "stream",
     "text": [
      "             Metabolomics Lipidomics Proteomics\n",
      "Metabolomics    0.0000000  0.9302222  0.5060162\n",
      "Lipidomics      0.9302222  0.0000000  0.6356547\n",
      "Proteomics      0.5060162  0.6356547  0.0000000\n"
     ]
    }
   ],
   "source": [
    "%%R\n",
    "names <- c(\"Metabolomics\", \"Lipidomics\", \"Proteomics\")\n",
    "design = matrix(\n",
    "  0, ncol=3, nrow=3, \n",
    "  dimnames = list(names, names)\n",
    ")\n",
    "diag(design) = 0 # set diagonal to 0s\n",
    "\n",
    "# Add the specific relationship strength\n",
    "design[\"Metabolomics\", \"Lipidomics\"] = relation_met_lip\n",
    "design[\"Lipidomics\", \"Metabolomics\"] = relation_met_lip\n",
    "design[\"Metabolomics\", \"Proteomics\"] = relation_met_prot\n",
    "design[\"Proteomics\", \"Metabolomics\"] = relation_met_prot\n",
    "design[\"Lipidomics\", \"Proteomics\"] = relation_lip_prot\n",
    "design[\"Proteomics\", \"Lipidomics\"] = relation_lip_prot\n",
    "\n",
    "print(design)"
   ],
   "metadata": {
    "collapsed": false,
    "ExecuteTime": {
     "end_time": "2024-06-15T10:54:23.956564800Z",
     "start_time": "2024-06-15T10:54:23.879778600Z"
    }
   },
   "id": "c541d7f05958d832"
  },
  {
   "cell_type": "markdown",
   "source": [
    "### Creating a Preliminary DIABLO Model"
   ],
   "metadata": {
    "collapsed": false
   },
   "id": "eaaa38ea06addf8c"
  },
  {
   "cell_type": "code",
   "execution_count": 14,
   "outputs": [
    {
     "name": "stderr",
     "output_type": "stream",
     "text": [
      "R[write to console]: Design matrix has changed to include Y; each block will be\n",
      "            linked to Y.\n",
      "\n"
     ]
    }
   ],
   "source": [
    "%%R\n",
    "basic.diablo.model = block.splsda(\n",
    "  X=X.train, Y=Y_train, ncomp=8, design=design\n",
    ") "
   ],
   "metadata": {
    "collapsed": false,
    "ExecuteTime": {
     "end_time": "2024-06-15T10:54:27.232453Z",
     "start_time": "2024-06-15T10:54:27.046421500Z"
    }
   },
   "id": "9d606f8ef6d3873b"
  },
  {
   "cell_type": "markdown",
   "source": [
    "### Tuning the number of components"
   ],
   "metadata": {
    "collapsed": false
   },
   "id": "f37b1f7e8b2ad676"
  },
  {
   "cell_type": "code",
   "execution_count": 15,
   "outputs": [],
   "source": [
    "%%R\n",
    "# When this flag is set to be true then the tuning of number of components and features in each block will be tuned. This might take a while, so please be patient\n",
    "# Otherwise, hyperparameters that were found to be the most optimal in the previous tuning procedure will be chosen. This is done to save time.\n",
    "TUNING = FALSE"
   ],
   "metadata": {
    "collapsed": false,
    "ExecuteTime": {
     "end_time": "2024-06-15T10:54:31.964351900Z",
     "start_time": "2024-06-15T10:54:31.932228100Z"
    }
   },
   "id": "3d40db61984ed98f"
  },
  {
   "cell_type": "code",
   "execution_count": 16,
   "outputs": [],
   "source": [
    "%%R\n",
    "if (TUNING == TRUE) {\n",
    "  # Tune the number of components\n",
    "  perf.diablo = perf(\n",
    "    basic.diablo.model, validation = 'Mfold', progressBar = FALSE,\n",
    "    dist='all', folds = 5, nrepeat = 20) \n",
    "    \n",
    "    # Plot the output of tuning\n",
    "    plot(perf.diablo, col = color.mixo(4:6)) \n",
    "    \n",
    "    print(perf.diablo$choice.ncomp$WeightedVote)\n",
    "\n",
    "    # Get the number of components according to BER and Mahalanobis distance\n",
    "    ncomp <- perf.diablo$choice.ncomp$WeightedVote[2,3]\n",
    "    print(ncomp)\n",
    "}"
   ],
   "metadata": {
    "collapsed": false,
    "ExecuteTime": {
     "end_time": "2024-06-15T10:54:33.107616900Z",
     "start_time": "2024-06-15T10:54:33.091643200Z"
    }
   },
   "id": "313e4f14908e178"
  },
  {
   "cell_type": "code",
   "execution_count": 17,
   "outputs": [],
   "source": [
    "%%R\n",
    "# We can specify additionally if other distance metric or number of components \n",
    "# will be used for further tuning\n",
    "dist <- \"centroids.dist\"\n",
    "ncomp <- 4"
   ],
   "metadata": {
    "collapsed": false,
    "ExecuteTime": {
     "end_time": "2024-06-15T10:54:34.508603Z",
     "start_time": "2024-06-15T10:54:34.489348100Z"
    }
   },
   "id": "ae774d2f3105bb24"
  },
  {
   "cell_type": "markdown",
   "source": [
    "### Tuning the number of features\n",
    "\n",
    "On the contrary to the sPLS-DA model feature selection is conducted for each dataset separately.\n",
    "We are specifically interested in **BER** (Balanced Error Rate), which uses class proportions to weight each classes.\n"
   ],
   "metadata": {
    "collapsed": false
   },
   "id": "2024017ed2b1caf1"
  },
  {
   "cell_type": "code",
   "execution_count": 18,
   "outputs": [
    {
     "name": "stdout",
     "output_type": "stream",
     "text": [
      "$Metabolomics\n",
      " [1]   2  23  44  65  86 107 128 149 170 191\n",
      "\n",
      "$Lipidomics\n",
      " [1]   5  62 119 176 233 290 347 404 461 518\n",
      "\n",
      "$Proteomics\n",
      "[1]   3  35  67  99 131 163 195 227 259\n"
     ]
    }
   ],
   "source": [
    "%%R\n",
    "\n",
    "# Determine the percentage of features to keep\n",
    "from <- 0.01\n",
    "to <- 0.9\n",
    "step <- 0.1\n",
    "\n",
    "test.keepX = list(\n",
    "  Metabolomics = seq(\n",
    "    as.integer(from * ncol(X.train$Metabolomics)), \n",
    "    as.integer(to * ncol(X.train$Metabolomics)), \n",
    "    as.integer(step * ncol(X.train$Metabolomics))\n",
    "  ),\n",
    "  Lipidomics = seq(\n",
    "    as.integer(from * ncol(X.train$Lipidomics)), \n",
    "    as.integer(to * ncol(X.train$Lipidomics)), \n",
    "    as.integer(step * ncol(X.train$Lipidomics))\n",
    "  ),\n",
    "  Proteomics = seq(\n",
    "    as.integer(from * ncol(X.train$Proteomics)),\n",
    "    as.integer(to * ncol(X.train$Proteomics)),\n",
    "    as.integer(step * ncol(X.train$Proteomics))\n",
    "  )\n",
    ")\n",
    "# Those are the values that will be tested\n",
    "print(test.keepX)"
   ],
   "metadata": {
    "collapsed": false,
    "ExecuteTime": {
     "end_time": "2024-06-15T10:54:35.374380300Z",
     "start_time": "2024-06-15T10:54:35.261182200Z"
    }
   },
   "id": "1b976e5fdb32f2e2"
  },
  {
   "cell_type": "code",
   "execution_count": 19,
   "outputs": [],
   "source": [
    "%%R\n",
    "if (TUNING == TRUE) {\n",
    "  # Tune the nnumber of features to keep for each omics block\n",
    "  tune.diablo = tune.block.splsda(\n",
    "    X = X.train, Y = Y_train, \n",
    "    ncomp = ncomp, test.keepX = test.keepX, \n",
    "    design = design, validation = 'Mfold', \n",
    "    folds = 5, nrepeat = 3, dist = dist, progressBar = TRUE)\n",
    "    \n",
    "    list.keepX <- tune.diablo$choice.keepX\n",
    "  }"
   ],
   "metadata": {
    "collapsed": false,
    "ExecuteTime": {
     "end_time": "2024-06-15T10:54:37.427516300Z",
     "start_time": "2024-06-15T10:54:37.395800800Z"
    }
   },
   "id": "94e19ac600434699"
  },
  {
   "cell_type": "code",
   "execution_count": 20,
   "outputs": [
    {
     "name": "stdout",
     "output_type": "stream",
     "text": [
      "[1] 40 40\n"
     ]
    }
   ],
   "source": [
    "%%R\n",
    "# This is the final list of the number of features to keep fo each block\n",
    "print(list.keepX)"
   ],
   "metadata": {
    "collapsed": false,
    "ExecuteTime": {
     "end_time": "2024-06-15T10:54:38.718901600Z",
     "start_time": "2024-06-15T10:54:38.687475900Z"
    }
   },
   "id": "eca0346699adb507"
  },
  {
   "cell_type": "markdown",
   "source": [
    "# Final DIABLO Model\n",
    "In the final DIABLO model we will used the tuned hyperparameters\n",
    "- number of features to keep for each omics block\n",
    "- number of components"
   ],
   "metadata": {
    "collapsed": false
   },
   "id": "95e518477cb647f0"
  },
  {
   "cell_type": "code",
   "execution_count": 21,
   "outputs": [
    {
     "name": "stderr",
     "output_type": "stream",
     "text": [
      "R[write to console]: Design matrix has changed to include Y; each block will be\n",
      "            linked to Y.\n",
      "\n"
     ]
    }
   ],
   "source": [
    "%%R\n",
    "if (TUNING == FALSE) {\n",
    "    ncomp <- 4\n",
    "    # Keep x for each data type\n",
    "    lipidomics_keepX <- c(347, 5, 5, 5)\n",
    "    metabolomics_keepX <- c(44, 23, 191, 86)\n",
    "    proteomics_keepX <- c(35, 131, 99, 163)\n",
    "    \n",
    "    list.keepX <- list(\n",
    "      Lipidomics = lipidomics_keepX,\n",
    "      Metabolomics = metabolomics_keepX,\n",
    "      Proteomics = proteomics_keepX\n",
    "    )\n",
    "}\n",
    "final.diablo.model = block.splsda(\n",
    "   X=X.train, Y=Y_train, \n",
    "   design=design, ncomp = ncomp, keepX = list.keepX\n",
    ")"
   ],
   "metadata": {
    "collapsed": false,
    "ExecuteTime": {
     "end_time": "2024-06-15T10:54:40.453383Z",
     "start_time": "2024-06-15T10:54:40.352101Z"
    }
   },
   "id": "d403e31fd9762938"
  },
  {
   "cell_type": "markdown",
   "source": [
    "**Diablo Plot**\n",
    "\n",
    "I will plot here results for the first DIABLO components as it typically captures the highest variance/correlation that separates classes across the datasets, while subsequent components may capture additional, sometimes subtler, patterns."
   ],
   "metadata": {
    "collapsed": false
   },
   "id": "a5ba948ba298ef3a"
  },
  {
   "cell_type": "code",
   "execution_count": 22,
   "outputs": [
    {
     "data": {
      "image/png": "[encoded data removed]",
      "text/plain": "<IPython.core.display.Image object>"
     },
     "metadata": {},
     "output_type": "display_data"
    }
   ],
   "source": [
    "%%R\n",
    "color_map <- c('darkturquoise', 'mediumvioletred')\n",
    "plotDiablo(final.diablo.model, ncomp = 1, legend = TRUE, col = color_map)"
   ],
   "metadata": {
    "collapsed": false,
    "ExecuteTime": {
     "end_time": "2024-06-15T10:54:43.996005200Z",
     "start_time": "2024-06-15T10:54:43.920822400Z"
    }
   },
   "id": "4b69c2710c304e29"
  },
  {
   "cell_type": "markdown",
   "source": [
    "### Evaluation of the Performance of the Model"
   ],
   "metadata": {
    "collapsed": false
   },
   "id": "cd77adf721352656"
  },
  {
   "cell_type": "code",
   "execution_count": 23,
   "outputs": [
    {
     "name": "stdout",
     "output_type": "stream",
     "text": [
      "  0   1   2   4   6   9  10  11  14  15  16  18  19  22  25  30  33  34  35  37 \n",
      "\"0\" \"0\" \"0\" \"0\" \"0\" \"0\" \"0\" \"0\" \"0\" \"0\" \"1\" \"0\" \"0\" \"0\" \"1\" \"0\" \"0\" \"0\" \"0\" \"0\" \n",
      " 38  39  43  49  53  62  64  67  68  69  73  75  76  78  79  80  83  89 \n",
      "\"1\" \"1\" \"0\" \"0\" \"0\" \"0\" \"0\" \"0\" \"1\" \"1\" \"0\" \"1\" \"0\" \"0\" \"0\" \"0\" \"1\" \"1\" \n"
     ]
    }
   ],
   "source": [
    "%%R\n",
    "predict.diablo = predict(final.diablo.model, newdata = X.test)\n",
    "# For each component, we predict the test set\n",
    "y_pred <- predict.diablo$WeightedVote$mahalanobis.dist[,ncomp]\n",
    "print(y_pred)"
   ],
   "metadata": {
    "collapsed": false,
    "ExecuteTime": {
     "end_time": "2024-06-15T10:54:46.897892600Z",
     "start_time": "2024-06-15T10:54:46.160957200Z"
    }
   },
   "id": "61f2cded97de3116"
  },
  {
   "cell_type": "code",
   "execution_count": 24,
   "outputs": [
    {
     "name": "stdout",
     "output_type": "stream",
     "text": [
      "Accuracy of the model: 0.7632\n",
      "Recall of the model: 0.7632\n",
      "Precision of the model: 0.7726\n",
      "Weighted F1 score of the model: 0.7673\n",
      "Matthews Correlation Coefficient of the model: 0.3699\n"
     ]
    },
    {
     "data": {
      "text/plain": "<Figure size 640x480 with 2 Axes>",
      "image/png": "[encoded data removed]"
     },
     "metadata": {},
     "output_type": "display_data"
    }
   ],
   "source": [
    "# Back to python!\n",
    "# Final evaluation of the model\n",
    "y_pred = %R y_pred\n",
    "# Cast the predictions to integer\n",
    "y_pred = y_pred.astype(int)\n",
    "evaluate_model(Y_test, y_pred)\n",
    "plot_confusion_matrix(Y_test, y_pred, 27)"
   ],
   "metadata": {
    "collapsed": false,
    "ExecuteTime": {
     "end_time": "2024-06-15T10:54:48.668363400Z",
     "start_time": "2024-06-15T10:54:48.429832Z"
    }
   },
   "id": "cbdc178b4fd81c1d"
  },
  {
   "cell_type": "markdown",
   "source": [
    "### Loading Plots\n",
    "Loadings are vectors with the weight of each original variable's contribution to the corresponding latent component. Here, we visualize the importance for selected features for each component."
   ],
   "metadata": {
    "collapsed": false
   },
   "id": "ed324d8b716b931c"
  },
  {
   "cell_type": "code",
   "execution_count": 25,
   "outputs": [
    {
     "data": {
      "image/png": "[encoded data removed]",
      "text/plain": "<IPython.core.display.Image object>"
     },
     "metadata": {},
     "output_type": "display_data"
    }
   ],
   "source": [
    "%%R\n",
    "# Feature Importance for the 1sst component\n",
    "plotLoadings(final.diablo.model, comp = 1, contrib = 'max', method = 'median')"
   ],
   "metadata": {
    "collapsed": false,
    "ExecuteTime": {
     "end_time": "2024-06-15T10:54:51.446122300Z",
     "start_time": "2024-06-15T10:54:51.300084300Z"
    }
   },
   "id": "6ab3e17c8ebf07d1"
  },
  {
   "cell_type": "code",
   "execution_count": 26,
   "outputs": [
    {
     "data": {
      "image/png": "[encoded data removed]",
      "text/plain": "<IPython.core.display.Image object>"
     },
     "metadata": {},
     "output_type": "display_data"
    }
   ],
   "source": [
    "%%R\n",
    "# Feature Importance for the 2nd component\n",
    "plotLoadings(final.diablo.model, comp = 2, contrib = 'max', method = 'median')"
   ],
   "metadata": {
    "collapsed": false,
    "ExecuteTime": {
     "end_time": "2024-06-15T10:54:53.474848400Z",
     "start_time": "2024-06-15T10:54:53.401267300Z"
    }
   },
   "id": "d2d4ee0813dcc279"
  },
  {
   "cell_type": "code",
   "execution_count": 27,
   "outputs": [
    {
     "data": {
      "image/png": "[encoded data removed]",
      "text/plain": "<IPython.core.display.Image object>"
     },
     "metadata": {},
     "output_type": "display_data"
    }
   ],
   "source": [
    "%%R\n",
    "# Feature Importance for the 3rd component\n",
    "plotLoadings(final.diablo.model, comp = 3, contrib = 'max', method = 'median')"
   ],
   "metadata": {
    "collapsed": false,
    "ExecuteTime": {
     "end_time": "2024-06-15T10:54:55.468115500Z",
     "start_time": "2024-06-15T10:54:55.364372900Z"
    }
   },
   "id": "d9ee0c7d5f9952b9"
  },
  {
   "cell_type": "markdown",
   "source": [
    "### Diablo Arrow Plot\n",
    "This plot shows the agreement between all data sets at the sample level. The start of the arrow indicates the centroid between all data sets for a given sample and the tips of the arrows indicate the location of that sample in each block."
   ],
   "metadata": {
    "collapsed": false
   },
   "id": "b4daae203f08311"
  },
  {
   "cell_type": "code",
   "execution_count": 57,
   "outputs": [
    {
     "data": {
      "image/png": "[encoded data removed]",
      "text/plain": "<IPython.core.display.Image object>"
     },
     "metadata": {},
     "output_type": "display_data"
    }
   ],
   "source": [
    "%%R\n",
    "plotArrow(\n",
    "    final.diablo.model, ind.names = FALSE, \n",
    "    legend = TRUE, title = 'DIABLO Arrow Plot', col = color_map)"
   ],
   "metadata": {
    "collapsed": false,
    "ExecuteTime": {
     "end_time": "2024-06-15T11:16:11.761321600Z",
     "start_time": "2024-06-15T11:16:11.183200Z"
    }
   },
   "id": "8a6302eeef422748"
  },
  {
   "cell_type": "markdown",
   "source": [
    "Now I will save the features selected by the DIABLO model to a csv file"
   ],
   "metadata": {
    "collapsed": false
   },
   "id": "d93452ec2cc5b209"
  },
  {
   "cell_type": "code",
   "execution_count": 58,
   "outputs": [
    {
     "name": "stdout",
     "output_type": "stream",
     "text": [
      "            Feature Coefficient        Block Component\n",
      "PUFA.FA     PUFA.FA   0.2300838 Metabolomics         1\n",
      "FAW6.FA     FAW6.FA   0.2174727 Metabolomics         1\n",
      "VLDL.D       VLDL.D  -0.2163167 Metabolomics         1\n",
      "L.VLDL.TG L.VLDL.TG  -0.2051405 Metabolomics         1\n",
      "VLDL.TG     VLDL.TG  -0.2049874 Metabolomics         1\n",
      "L.VLDL.P   L.VLDL.P  -0.2016867 Metabolomics         1\n"
     ]
    }
   ],
   "source": [
    "%%R\n",
    "# Save the features selected by the DIABLO model\n",
    "\n",
    "results <- data.frame()\n",
    "\n",
    "\n",
    "for (i in 1:ncomp) {\n",
    "  # Get the selected features for each component i\n",
    "  selected_metabolites <- selectVar(final.diablo.model, block='Metabolomics', comp=i)$Metabolomics\n",
    "  selected_lipids <- selectVar(final.diablo.model, block='Lipidomics', comp=i)$Lipidomics\n",
    "  selected_proteins <- selectVar(final.diablo.model, block='Proteomics', comp=i)$Proteomics\n",
    "  \n",
    "  metabolites_feature_names <- rownames(selected_metabolites$value)\n",
    "  metabolites_feature_values <- selected_metabolites$value\n",
    "  metabolites_block <- rep(\"Metabolomics\", length(metabolites_feature_names))\n",
    "  metabolites_comp <- rep(i, length(metabolites_feature_names))\n",
    "  \n",
    "  lipids_feature_names <- rownames(selected_lipids$value)\n",
    "  lipids_feature_values <- selected_lipids$value\n",
    "  lipids_block <- rep(\"Lipidomics\", length(lipids_feature_names))\n",
    "  lipids_comp <- rep(i, length(lipids_feature_names))\n",
    "  \n",
    "  proteins_feature_names <- rownames(selected_proteins$value)\n",
    "  proteins_feature_values <- selected_proteins$value\n",
    "  proteins_block <- rep(\"Proteomics\", length(proteins_feature_names))\n",
    "  proteins_comp <- rep(i, length(proteins_feature_names))\n",
    "  \n",
    "  # Create data frames for each block\n",
    "  metabolites_df <- data.frame(\n",
    "    Feature = metabolites_feature_names, \n",
    "    Value = metabolites_feature_values, \n",
    "    Block = metabolites_block, \n",
    "    Component = metabolites_comp)\n",
    "    \n",
    "  lipids_df <- data.frame(\n",
    "    Feature = lipids_feature_names, \n",
    "    Value = lipids_feature_values, \n",
    "    Block = lipids_block, \n",
    "    Component = lipids_comp)\n",
    "    \n",
    "  proteins_df <- data.frame(\n",
    "    Feature = proteins_feature_names, \n",
    "    Value = proteins_feature_values, \n",
    "    Block = proteins_block, \n",
    "    Component = proteins_comp)\n",
    "  \n",
    "  result <- rbind(metabolites_df, lipids_df, proteins_df)\n",
    "  # Append to the main results data frame\n",
    "  results <- rbind(results, result)\n",
    "}\n",
    "\n",
    "# Rename the columns\n",
    "colnames(results) <- c(\"Feature\", \"Coefficient\", \"Block\", \"Component\")\n",
    "head(results)"
   ],
   "metadata": {
    "collapsed": false,
    "ExecuteTime": {
     "end_time": "2024-06-15T11:18:10.033950500Z",
     "start_time": "2024-06-15T11:18:09.973758200Z"
    }
   },
   "id": "c9de846494f04e30"
  },
  {
   "cell_type": "code",
   "execution_count": 59,
   "outputs": [],
   "source": [
    "%%R\n",
    "# Save the results to a csv file\n",
    "RESULTS_PATH <- \"C:/Users/mjgoj/PycharmProjects/ThesisFinal/results/\"\n",
    "write.csv(results, paste0(RESULTS_PATH, \"diablo_features.csv\"), row.names=FALSE)"
   ],
   "metadata": {
    "collapsed": false,
    "ExecuteTime": {
     "end_time": "2024-06-15T11:18:11.785670600Z",
     "start_time": "2024-06-15T11:18:11.755485800Z"
    }
   },
   "id": "96adae90b32e595f"
  }
 ],
 "metadata": {
  "kernelspec": {
   "display_name": "Python 3",
   "language": "python",
   "name": "python3"
  },
  "language_info": {
   "codemirror_mode": {
    "name": "ipython",
    "version": 2
   },
   "file_extension": ".py",
   "mimetype": "text/x-python",
   "name": "python",
   "nbconvert_exporter": "python",
   "pygments_lexer": "ipython2",
   "version": "2.7.6"
  }
 },
 "nbformat": 4,
 "nbformat_minor": 5
}
