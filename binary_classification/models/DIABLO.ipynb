{
 "cells": [
  {
   "cell_type": "markdown",
   "source": [
    "# DIABLO \n",
    "### (Data Integration Analysis for Biomarker discovery using Latent cOmponents) \n",
    "\n",
    "Code adapted from [mixOmics](http://mixomics.org/mixdiablo/diablo-tcga-case-study/) documentation.\n",
    "\n",
    "**How does DIABLO work?**\n",
    "DIABLO is an extension of the PLS-DA method, adapted for multi-block data integration, which means it can handle multiple dataset simultaneously. \n",
    "The primary goal of DIABLO is to identify a subset of features from each dataset that are not only discriminative of the conditions or classes in the study but are also correlated across the different datasets.\n",
    "\n",
    " DIABLO integrates data from different sources (blocks) by finding latent components that are correlated across these blocks while still being able to discriminate between conditions or classes in the data.\n",
    " Like sPLS-DA, DIABLO uses sparsity to select a limited number of features in each block, which contributes to the model. This is achieved using L1-penalization, which forces some loadings to shrink to zero.\n",
    " \n",
    "**In this notebook, we will:**\n",
    "Create a DIABLO model for binary classification (Decliners vs Stable) using the metabolomics, lipidomics, and proteomics datasets. This will include:\n",
    "- Creating the design matrix to specify the relationships between the datasets\n",
    "- Tuning the number of components to be used\n",
    "- Tuning the number of features to be selected\n",
    "- Building the final DIABLO model\n",
    "- Evaluating the model performance"
   ],
   "metadata": {
    "collapsed": false
   },
   "id": "ecc5a39216847e"
  },
  {
   "cell_type": "code",
   "execution_count": 1,
   "outputs": [],
   "source": [
    "import os\n",
    "# Set the environment variables\n",
    "os.environ[\"R_HOME\"] = r\"C:\\Program Files\\R\\R-4.4.0\"\n",
    "os.environ[\"PATH\"]   = r\"C:\\Program Files\\R\\R-4.4.0\\bin\\x64\" + \";\" + os.environ[\"PATH\"]"
   ],
   "metadata": {
    "collapsed": false,
    "ExecuteTime": {
     "end_time": "2024-06-21T14:08:10.659286Z",
     "start_time": "2024-06-21T14:08:10.651817600Z"
    }
   },
   "id": "96e7e939b9c955ac"
  },
  {
   "cell_type": "code",
   "execution_count": 2,
   "outputs": [
    {
     "name": "stderr",
     "output_type": "stream",
     "text": [
      "C:\\Users\\mjgoj\\miniconda3\\Lib\\site-packages\\openpyxl\\worksheet\\_reader.py:312: UserWarning: Unknown extension is not supported and will be removed\n",
      "  warn(msg)\n"
     ]
    },
    {
     "name": "stdout",
     "output_type": "stream",
     "text": [
      "None\n",
      "     RID  ThreeClass  TwoClass   AVLTIDEK  LSITGTYDLK  SVLGQLGITK  \\\n",
      "0      4           1         0  11.015458    4.920400   13.204807   \n",
      "1      8           1         0   9.869124    4.885254   14.089945   \n",
      "2     14           0         0   8.319413    5.179828   13.012452   \n",
      "3     19           0         0   9.915598    5.279434   13.599989   \n",
      "4     23           1         0  10.179433    4.812406   13.565679   \n",
      "..   ...         ...       ...        ...         ...         ...   \n",
      "91  1130           1         1   9.972025    4.991170   13.348450   \n",
      "92  1260           1         1   8.392018    4.765898   13.556793   \n",
      "93  1295           2         1  10.095396    5.078808   13.798429   \n",
      "94  1393           2         1  10.456226    5.164861   13.638487   \n",
      "95  1394           2         1  10.107979    5.045091   13.081318   \n",
      "\n",
      "    NGVAQEPVHLDSPAIK  SGLSTGWTQLSK  DLLLPQPDLR  VAAGAFQGLR  ...  TLSDYNIQK  \\\n",
      "0          18.080988     23.295382   34.783867   30.776336  ...  36.523943   \n",
      "1          18.921786     24.201049   34.990947   30.655390  ...  38.827446   \n",
      "2          19.498997     24.860393   35.856623   31.712461  ...  36.575856   \n",
      "3          18.109956     23.532628   35.119954   30.908039  ...  37.457460   \n",
      "4          17.697169     23.361897   34.143182   30.063377  ...  36.986630   \n",
      "..               ...           ...         ...         ...  ...        ...   \n",
      "91         18.152739     23.609110   34.666841   30.211100  ...  37.568446   \n",
      "92         19.965898     25.440207   36.278423   32.108582  ...  37.509807   \n",
      "93         17.893933     23.444278   35.351981   31.066821  ...  37.685056   \n",
      "94         18.774420     24.378273   35.862248   31.578641  ...  37.782730   \n",
      "95         17.389859     22.617140   33.911607   29.588878  ...  36.934097   \n",
      "\n",
      "    NLHDLDVSDNQLER  SLTLGIEPVSPTSLR  YLQGSSVQLR  AYQGVAAPFPK  \\\n",
      "0        22.649163        17.431868   25.164502    21.922756   \n",
      "1        24.124273        19.225242   26.783561    25.093486   \n",
      "2        23.414386        18.537544   26.155318    22.858820   \n",
      "3        22.936990        18.102875   25.925415    22.904481   \n",
      "4        22.286827        17.038677   24.767032    22.197467   \n",
      "..             ...              ...         ...          ...   \n",
      "91       23.998219        19.358472   26.757008    23.889384   \n",
      "92       23.808609        18.859685   25.945485    22.606675   \n",
      "93       23.609230        18.547553   26.117641    22.157643   \n",
      "94       23.054886        18.052179   26.066840    22.577869   \n",
      "95       22.165176        17.066664   24.833163    21.683304   \n",
      "\n",
      "    NSEPQDEGELFQGVDPR  THLGEALAPLSK    EFSHLGK  HLSLLTTLSNR  \\\n",
      "0           24.291492     19.823016  10.052094    19.540029   \n",
      "1           26.945820     23.009762  10.627093    20.785284   \n",
      "2           24.564018     20.995731  10.626446    20.750367   \n",
      "3           25.038821     21.050122   9.982702    19.829190   \n",
      "4           24.168622     20.365661  10.173347    19.468151   \n",
      "..                ...           ...        ...          ...   \n",
      "91          25.958663     22.132967   9.888161    20.396611   \n",
      "92          24.576527     20.856036  11.584290    22.035423   \n",
      "93          24.121056     20.616758  10.045746    19.928081   \n",
      "94          24.093165     20.650303  11.203190    20.931184   \n",
      "95          23.671891     19.686927   8.439732    19.041943   \n",
      "\n",
      "    VPTADLEDVLPLAEDITNILSK  \n",
      "0                16.933131  \n",
      "1                17.620270  \n",
      "2                17.538432  \n",
      "3                16.759205  \n",
      "4                16.642083  \n",
      "..                     ...  \n",
      "91               16.892104  \n",
      "92               18.939816  \n",
      "93               15.937695  \n",
      "94               17.978322  \n",
      "95               15.969414  \n",
      "\n",
      "[96 rows x 323 columns]\n"
     ]
    }
   ],
   "source": [
    "from methods.helper import *\n",
    "# Suppress warnings\n",
    "import warnings\n",
    "warnings.filterwarnings('ignore')"
   ],
   "metadata": {
    "collapsed": false,
    "ExecuteTime": {
     "end_time": "2024-06-21T14:08:14.103182Z",
     "start_time": "2024-06-21T14:08:10.659286Z"
    }
   },
   "id": "4bb12662335eacd"
  },
  {
   "cell_type": "code",
   "execution_count": 3,
   "outputs": [],
   "source": [
    "%load_ext rpy2.ipython"
   ],
   "metadata": {
    "collapsed": false,
    "ExecuteTime": {
     "end_time": "2024-06-21T14:08:14.867099600Z",
     "start_time": "2024-06-21T14:08:14.103182Z"
    }
   },
   "id": "992177beabca0851"
  },
  {
   "cell_type": "markdown",
   "source": [
    "Loading the three omics datasets and splitting it into predefined train / test split (60 -40)"
   ],
   "metadata": {
    "collapsed": false
   },
   "id": "bee22560fc1336a7"
  },
  {
   "cell_type": "code",
   "execution_count": 32,
   "outputs": [],
   "source": [
    "# Load data\n",
    "lipidomics, metabolomics, proteomics = load_data()"
   ],
   "metadata": {
    "collapsed": false,
    "ExecuteTime": {
     "end_time": "2024-06-21T14:08:23.541318400Z",
     "start_time": "2024-06-21T14:08:23.493462400Z"
    }
   },
   "id": "65127022d16140ed"
  },
  {
   "cell_type": "code",
   "execution_count": 33,
   "outputs": [],
   "source": [
    "# Get the train - test split\n",
    "lipidomics_train, lipidomics_test = get_train_test_split_dataset(lipidomics)\n",
    "metabolomics_train, metabolomics_test = get_train_test_split_dataset(metabolomics)\n",
    "proteomics_train, proteomics_test = get_train_test_split_dataset(proteomics)\n",
    "    \n",
    "Y_train, Y_test = metabolomics_train[\"TwoClass\"], metabolomics_test[\"TwoClass\"]\n",
    "Y_train, Y_test = Y_train.astype('int'), Y_test.astype('int')"
   ],
   "metadata": {
    "collapsed": false,
    "ExecuteTime": {
     "end_time": "2024-06-21T14:08:23.541318400Z",
     "start_time": "2024-06-21T14:08:23.495356Z"
    }
   },
   "id": "fd060b1f2dfbffa8"
  },
  {
   "cell_type": "code",
   "execution_count": 34,
   "outputs": [],
   "source": [
    "# Remove the class column from the datasets and leave only features\n",
    "lipidomics_train = lipidomics_train.drop(columns=[\"TwoClass\", \"RID\", \"ThreeClass\"])\n",
    "lipidomics_test = lipidomics_test.drop(columns=[\"TwoClass\", \"RID\", \"ThreeClass\"])\n",
    "metabolomics_train = metabolomics_train.drop(columns=[\"TwoClass\", \"RID\", \"ThreeClass\"])\n",
    "metabolomics_test = metabolomics_test.drop(columns=[\"TwoClass\", \"RID\", \"ThreeClass\"])\n",
    "proteomics_train = proteomics_train.drop(columns=[\"TwoClass\", \"RID\", \"ThreeClass\"])\n",
    "proteomics_test = proteomics_test.drop(columns=[\"TwoClass\", \"RID\", \"ThreeClass\"])"
   ],
   "metadata": {
    "collapsed": false,
    "ExecuteTime": {
     "end_time": "2024-06-21T14:08:25.356214900Z",
     "start_time": "2024-06-21T14:08:25.350203800Z"
    }
   },
   "id": "5c3121902c6aa7dd"
  },
  {
   "cell_type": "markdown",
   "source": [
    "Changing the format of the input data to match MixOmics package specifications,\n",
    "Since a DIABLO model is only implemented in R language, I will use the R cells within the notebook"
   ],
   "metadata": {
    "collapsed": false
   },
   "id": "3c134bf4188f7571"
  },
  {
   "cell_type": "code",
   "execution_count": 35,
   "outputs": [
    {
     "name": "stdout",
     "output_type": "stream",
     "text": [
      "Metabolomics   Lipidomics   Proteomics \n",
      "          58           58           58 \n"
     ]
    }
   ],
   "source": [
    "%%R -i lipidomics_train -i lipidomics_test -i metabolomics_train -i metabolomics_test -i proteomics_train -i proteomics_test -i Y_train -i Y_test\n",
    "# Passing the data to the R cell\n",
    "\n",
    "# Read the required libraries\n",
    "library(readxl) \n",
    "library(mixOmics)\n",
    "library(reshape2)\n",
    "\n",
    "# Get the data in a format required by the MixOmics models\n",
    "X.train <- list(\n",
    "  Metabolomics = metabolomics_train,\n",
    "  Lipidomics = lipidomics_train,\n",
    "  Proteomics = proteomics_train\n",
    ")\n",
    "\n",
    "X.test <- list(\n",
    "  Metabolomics = metabolomics_test,\n",
    "  Lipidomics = lipidomics_test,\n",
    "  Proteomics = proteomics_test\n",
    ")\n",
    "\n",
    "# Double checking the size of the dataset\n",
    "sapply(X.train, nrow)"
   ],
   "metadata": {
    "collapsed": false,
    "ExecuteTime": {
     "end_time": "2024-06-21T14:08:28.275531100Z",
     "start_time": "2024-06-21T14:08:27.042136200Z"
    }
   },
   "id": "ee9cb3211d9fb359"
  },
  {
   "cell_type": "markdown",
   "source": [
    "### Determining Correlation between the datasets\n",
    "\n",
    "Generating the **pairwise PLS comparisons** with one omics datasets. I will plot the correlation between the top n features of omics data type."
   ],
   "metadata": {
    "collapsed": false
   },
   "id": "f3dc55d737e8cb3e"
  },
  {
   "cell_type": "code",
   "execution_count": 36,
   "outputs": [],
   "source": [
    "%%R\n",
    "n <- 40  # How many variables to select in each data set\n",
    "list.keepX <- c(n, n)\n",
    "list.keepY <- c(n, n)\n",
    "\n",
    "# generate three pairwise PLS models\n",
    "pls1 <- spls(\n",
    "    metabolomics_train, lipidomics_train, \n",
    "    keepX = list.keepX, keepY = list.keepY)\n",
    "    \n",
    "pls2 <- spls(\n",
    "    metabolomics_train, proteomics_train, \n",
    "    keepX = list.keepX, keepY = list.keepY)\n",
    "    \n",
    "pls3 <- spls(\n",
    "    lipidomics_train, proteomics_train, \n",
    "    keepX = list.keepX, keepY = list.keepY)"
   ],
   "metadata": {
    "collapsed": false,
    "ExecuteTime": {
     "end_time": "2024-06-21T14:08:29.942340500Z",
     "start_time": "2024-06-21T14:08:29.756881500Z"
    }
   },
   "id": "2323f3777b29547"
  },
  {
   "cell_type": "code",
   "execution_count": 37,
   "outputs": [],
   "source": [
    "%%R\n",
    "CUTOFF = 0.4 # Significance cutoff\n",
    "color_map <- c('darkorchid', 'lightgreen', 'coral')"
   ],
   "metadata": {
    "collapsed": false,
    "ExecuteTime": {
     "end_time": "2024-06-21T14:08:32.345025700Z",
     "start_time": "2024-06-21T14:08:32.306890100Z"
    }
   },
   "id": "116f834bf861f87"
  },
  {
   "cell_type": "code",
   "execution_count": 38,
   "outputs": [
    {
     "name": "stdout",
     "output_type": "stream",
     "text": [
      "          comp1        comp2\n",
      "comp1 0.9302222 7.267450e-17\n",
      "comp2 0.0595647 8.730815e-01\n",
      "Correlation of metabolomics and lipidomics datasets:  0.9302222"
     ]
    },
    {
     "data": {
      "image/png": "[encoded data removed]",
      "text/plain": "<IPython.core.display.Image object>"
     },
     "metadata": {},
     "output_type": "display_data"
    }
   ],
   "source": [
    "%%R\n",
    "# Creating the Circle Correlation Plots\n",
    "# Set the size of the plot\n",
    "options(repr.plot.width=35, repr.plot.height=10)\n",
    "plotVar(\n",
    "    pls1, cutoff = CUTOFF, title = \"Metabolomics vs Lipidomics\", \n",
    "    col = color_map[1:2], style='lattice',\n",
    "    var.names = FALSE, pch = c(16, 17), cex = c(2,2))\n",
    "    \n",
    "print(cor(pls1$variates$X, pls1$variates$Y))\n",
    "relation_met_lip <- cor(pls1$variates$X, pls1$variates$Y)[1, 1]\n",
    "cat(\"Correlation of metabolomics and lipidomics datasets: \", relation_met_lip)"
   ],
   "metadata": {
    "collapsed": false,
    "ExecuteTime": {
     "end_time": "2024-06-21T14:08:33.491225900Z",
     "start_time": "2024-06-21T14:08:33.385285700Z"
    }
   },
   "id": "f5804e0a8a4f28f4"
  },
  {
   "cell_type": "code",
   "execution_count": 39,
   "outputs": [
    {
     "name": "stdout",
     "output_type": "stream",
     "text": [
      "           comp1        comp2\n",
      "comp1 0.50601622 3.465046e-17\n",
      "comp2 0.04333592 5.230141e-01\n",
      "Correlation of metabolomics and proteomics datasets:  0.5060162"
     ]
    },
    {
     "data": {
      "image/png": "[encoded data removed]",
      "text/plain": "<IPython.core.display.Image object>"
     },
     "metadata": {},
     "output_type": "display_data"
    }
   ],
   "source": [
    "%%R\n",
    "plotVar(\n",
    "    pls2, cutoff = CUTOFF, title = \"Metabolomics vs Proteomics\", \n",
    "    col = c(color_map[1], color_map[3]), style='lattice',\n",
    "    var.names = FALSE, pch = c(16, 17), cex = c(2,2))\n",
    "    \n",
    "print(cor(pls2$variates$X, pls2$variates$Y))\n",
    "relation_met_prot <- cor(pls2$variates$X, pls2$variates$Y)[1, 1]\n",
    "cat(\"Correlation of metabolomics and proteomics datasets: \", relation_met_prot)"
   ],
   "metadata": {
    "collapsed": false,
    "ExecuteTime": {
     "end_time": "2024-06-21T14:08:35.845679700Z",
     "start_time": "2024-06-21T14:08:35.735072600Z"
    }
   },
   "id": "daa0fde96ce0c895"
  },
  {
   "cell_type": "code",
   "execution_count": 40,
   "outputs": [
    {
     "name": "stdout",
     "output_type": "stream",
     "text": [
      "           comp1         comp2\n",
      "comp1  0.6356547 -2.460562e-16\n",
      "comp2 -0.3632144  6.110303e-01\n",
      "Correlation of lipidomics and proteomics datasets:  0.6356547"
     ]
    },
    {
     "data": {
      "image/png": "[encoded data removed]",
      "text/plain": "<IPython.core.display.Image object>"
     },
     "metadata": {},
     "output_type": "display_data"
    }
   ],
   "source": [
    "%%R\n",
    "plotVar(\n",
    "    pls3, cutoff = CUTOFF, title = \"Lipidomics vs Proteomics\", \n",
    "    col = color_map[2:3], style='lattice',\n",
    "    var.names = FALSE, pch = c(16, 17), cex = c(2,2))\n",
    "print(cor(pls3$variates$X, pls3$variates$Y))\n",
    "relation_lip_prot <- cor(pls3$variates$X, pls3$variates$Y)[1, 1]\n",
    "cat(\"Correlation of lipidomics and proteomics datasets: \", relation_lip_prot)"
   ],
   "metadata": {
    "collapsed": false,
    "ExecuteTime": {
     "end_time": "2024-06-21T14:08:37.847870800Z",
     "start_time": "2024-06-21T14:08:37.757769Z"
    }
   },
   "id": "b07ab0ac1f66f85e"
  },
  {
   "cell_type": "markdown",
   "source": [
    "### Creating the Design Matrix\n",
    "\n",
    "As written in the MixOMics documentation _Design_ refers to the relationship structure between the various inputted dataframes. In this matrix each value (between 0-1) represents the strength of the relationship to be modeled between two given omics types."
   ],
   "metadata": {
    "collapsed": false
   },
   "id": "4e81546dabd0e1e0"
  },
  {
   "cell_type": "code",
   "execution_count": 41,
   "outputs": [
    {
     "name": "stdout",
     "output_type": "stream",
     "text": [
      "             Metabolomics Lipidomics Proteomics\n",
      "Metabolomics    0.0000000  0.9302222  0.5060162\n",
      "Lipidomics      0.9302222  0.0000000  0.6356547\n",
      "Proteomics      0.5060162  0.6356547  0.0000000\n"
     ]
    }
   ],
   "source": [
    "%%R\n",
    "names <- c(\"Metabolomics\", \"Lipidomics\", \"Proteomics\")\n",
    "design = matrix(\n",
    "  0, ncol=3, nrow=3, \n",
    "  dimnames = list(names, names)\n",
    ")\n",
    "diag(design) = 0 # set diagonal to 0s\n",
    "\n",
    "# Add the specific relationship strength\n",
    "design[\"Metabolomics\", \"Lipidomics\"] = relation_met_lip\n",
    "design[\"Lipidomics\", \"Metabolomics\"] = relation_met_lip\n",
    "design[\"Metabolomics\", \"Proteomics\"] = relation_met_prot\n",
    "design[\"Proteomics\", \"Metabolomics\"] = relation_met_prot\n",
    "design[\"Lipidomics\", \"Proteomics\"] = relation_lip_prot\n",
    "design[\"Proteomics\", \"Lipidomics\"] = relation_lip_prot\n",
    "\n",
    "print(design)"
   ],
   "metadata": {
    "collapsed": false,
    "ExecuteTime": {
     "end_time": "2024-06-21T14:08:41.866182400Z",
     "start_time": "2024-06-21T14:08:41.793696700Z"
    }
   },
   "id": "c541d7f05958d832"
  },
  {
   "cell_type": "markdown",
   "source": [
    "### Creating a Preliminary DIABLO Model"
   ],
   "metadata": {
    "collapsed": false
   },
   "id": "eaaa38ea06addf8c"
  },
  {
   "cell_type": "code",
   "execution_count": 42,
   "outputs": [
    {
     "name": "stderr",
     "output_type": "stream",
     "text": [
      "R[write to console]: Design matrix has changed to include Y; each block will be\n",
      "            linked to Y.\n",
      "\n"
     ]
    }
   ],
   "source": [
    "%%R\n",
    "basic.diablo.model = block.splsda(\n",
    "  X=X.train, Y=Y_train, ncomp=8, design=design\n",
    ") "
   ],
   "metadata": {
    "collapsed": false,
    "ExecuteTime": {
     "end_time": "2024-06-21T14:08:44.451567Z",
     "start_time": "2024-06-21T14:08:44.255132900Z"
    }
   },
   "id": "9d606f8ef6d3873b"
  },
  {
   "cell_type": "markdown",
   "source": [
    "### Tuning the number of components"
   ],
   "metadata": {
    "collapsed": false
   },
   "id": "f37b1f7e8b2ad676"
  },
  {
   "cell_type": "code",
   "execution_count": 43,
   "outputs": [],
   "source": [
    "%%R\n",
    "# When this flag is set to be true then the tuning of number of components and features in each block will be tuned. This might take a while, so please be patient\n",
    "# Otherwise, hyperparameters that were found to be the most optimal in the previous tuning procedure will be chosen. This is done to save time.\n",
    "TUNING = FALSE"
   ],
   "metadata": {
    "collapsed": false,
    "ExecuteTime": {
     "end_time": "2024-06-21T14:08:45.611801600Z",
     "start_time": "2024-06-21T14:08:45.595932500Z"
    }
   },
   "id": "3d40db61984ed98f"
  },
  {
   "cell_type": "code",
   "execution_count": 44,
   "outputs": [],
   "source": [
    "%%R\n",
    "if (TUNING == TRUE) {\n",
    "  # Tune the number of components\n",
    "  perf.diablo = perf(\n",
    "    basic.diablo.model, validation = 'Mfold', progressBar = FALSE,\n",
    "    dist='all', folds = 5, nrepeat = 20) \n",
    "    \n",
    "    # Plot the output of tuning\n",
    "    plot(perf.diablo, col = color.mixo(4:6)) \n",
    "    \n",
    "    print(perf.diablo$choice.ncomp$WeightedVote)\n",
    "\n",
    "    # Get the number of components according to BER and Mahalanobis distance\n",
    "    ncomp <- perf.diablo$choice.ncomp$WeightedVote[2,3]\n",
    "    print(ncomp)\n",
    "}"
   ],
   "metadata": {
    "collapsed": false,
    "ExecuteTime": {
     "end_time": "2024-06-21T14:08:46.384270500Z",
     "start_time": "2024-06-21T14:08:46.352921100Z"
    }
   },
   "id": "313e4f14908e178"
  },
  {
   "cell_type": "code",
   "execution_count": 51,
   "outputs": [],
   "source": [
    "%%R\n",
    "# We can specify additionally if other distance metric or number of components \n",
    "# will be used for further tuning\n",
    "dist <- \"mahalanobis.dist\"\n",
    "ncomp <- 4"
   ],
   "metadata": {
    "collapsed": false,
    "ExecuteTime": {
     "end_time": "2024-06-21T14:09:52.105352900Z",
     "start_time": "2024-06-21T14:09:52.083346Z"
    }
   },
   "id": "ae774d2f3105bb24"
  },
  {
   "cell_type": "markdown",
   "source": [
    "### Tuning the number of features\n",
    "\n",
    "On the contrary to the sPLS-DA model feature selection is conducted for each dataset separately.\n",
    "We are specifically interested in **BER** (Balanced Error Rate), which uses class proportions to weight each classes.\n"
   ],
   "metadata": {
    "collapsed": false
   },
   "id": "2024017ed2b1caf1"
  },
  {
   "cell_type": "code",
   "execution_count": 52,
   "outputs": [
    {
     "name": "stdout",
     "output_type": "stream",
     "text": [
      "$Metabolomics\n",
      " [1]   2  23  44  65  86 107 128 149 170 191\n",
      "\n",
      "$Lipidomics\n",
      " [1]   5  62 119 176 233 290 347 404 461 518\n",
      "\n",
      "$Proteomics\n",
      "[1]   3  35  67  99 131 163 195 227 259\n"
     ]
    }
   ],
   "source": [
    "%%R\n",
    "\n",
    "# Determine the percentage of features to keep\n",
    "from <- 0.01\n",
    "to <- 0.9\n",
    "step <- 0.1\n",
    "\n",
    "test.keepX = list(\n",
    "  Metabolomics = seq(\n",
    "    as.integer(from * ncol(X.train$Metabolomics)), \n",
    "    as.integer(to * ncol(X.train$Metabolomics)), \n",
    "    as.integer(step * ncol(X.train$Metabolomics))\n",
    "  ),\n",
    "  Lipidomics = seq(\n",
    "    as.integer(from * ncol(X.train$Lipidomics)), \n",
    "    as.integer(to * ncol(X.train$Lipidomics)), \n",
    "    as.integer(step * ncol(X.train$Lipidomics))\n",
    "  ),\n",
    "  Proteomics = seq(\n",
    "    as.integer(from * ncol(X.train$Proteomics)),\n",
    "    as.integer(to * ncol(X.train$Proteomics)),\n",
    "    as.integer(step * ncol(X.train$Proteomics))\n",
    "  )\n",
    ")\n",
    "# Those are the values that will be tested\n",
    "print(test.keepX)"
   ],
   "metadata": {
    "collapsed": false,
    "ExecuteTime": {
     "end_time": "2024-06-21T14:09:53.352775800Z",
     "start_time": "2024-06-21T14:09:53.241552900Z"
    }
   },
   "id": "1b976e5fdb32f2e2"
  },
  {
   "cell_type": "code",
   "execution_count": 53,
   "outputs": [],
   "source": [
    "%%R\n",
    "if (TUNING == TRUE) {\n",
    "  # Tune the nnumber of features to keep for each omics block\n",
    "  tune.diablo = tune.block.splsda(\n",
    "    X = X.train, Y = Y_train, \n",
    "    ncomp = ncomp, test.keepX = test.keepX, \n",
    "    design = design, validation = 'Mfold', \n",
    "    folds = 5, nrepeat = 3, dist = dist, progressBar = TRUE)\n",
    "    \n",
    "    list.keepX <- tune.diablo$choice.keepX\n",
    "  }"
   ],
   "metadata": {
    "collapsed": false,
    "ExecuteTime": {
     "end_time": "2024-06-21T14:09:54.801803800Z",
     "start_time": "2024-06-21T14:09:54.769804900Z"
    }
   },
   "id": "94e19ac600434699"
  },
  {
   "cell_type": "code",
   "execution_count": 54,
   "outputs": [
    {
     "name": "stdout",
     "output_type": "stream",
     "text": [
      "$Lipidomics\n",
      "[1] 347   5   5   5\n",
      "\n",
      "$Metabolomics\n",
      "[1]  44  23 191  86\n",
      "\n",
      "$Proteomics\n",
      "[1]  35 131  99 163\n"
     ]
    }
   ],
   "source": [
    "%%R\n",
    "# This is the final list of the number of features to keep fo each block\n",
    "print(list.keepX)"
   ],
   "metadata": {
    "collapsed": false,
    "ExecuteTime": {
     "end_time": "2024-06-21T14:09:56.544173700Z",
     "start_time": "2024-06-21T14:09:56.464700300Z"
    }
   },
   "id": "eca0346699adb507"
  },
  {
   "cell_type": "markdown",
   "source": [
    "# Final DIABLO Model\n",
    "In the final DIABLO model we will used the tuned hyperparameters\n",
    "- number of features to keep for each omics block\n",
    "- number of components"
   ],
   "metadata": {
    "collapsed": false
   },
   "id": "95e518477cb647f0"
  },
  {
   "cell_type": "code",
   "execution_count": 55,
   "outputs": [
    {
     "name": "stderr",
     "output_type": "stream",
     "text": [
      "R[write to console]: Design matrix has changed to include Y; each block will be\n",
      "            linked to Y.\n",
      "\n"
     ]
    }
   ],
   "source": [
    "%%R\n",
    "if (TUNING == FALSE) {\n",
    "    ncomp <- 4\n",
    "    # Keep x for each data type\n",
    "    lipidomics_keepX <- c(347, 5, 5, 5)\n",
    "    metabolomics_keepX <- c(44, 23, 191, 86)\n",
    "    proteomics_keepX <- c(35, 131, 99, 163)\n",
    "    \n",
    "    list.keepX <- list(\n",
    "      Lipidomics = lipidomics_keepX,\n",
    "      Metabolomics = metabolomics_keepX,\n",
    "      Proteomics = proteomics_keepX\n",
    "    )\n",
    "}\n",
    "final.diablo.model = block.splsda(\n",
    "   X=X.train, Y=Y_train, \n",
    "   design=design, ncomp = ncomp, keepX = list.keepX\n",
    ")"
   ],
   "metadata": {
    "collapsed": false,
    "ExecuteTime": {
     "end_time": "2024-06-21T14:09:58.193012800Z",
     "start_time": "2024-06-21T14:09:58.046130200Z"
    }
   },
   "id": "d403e31fd9762938"
  },
  {
   "cell_type": "markdown",
   "source": [
    "**Diablo Plot**\n",
    "\n",
    "I will plot here results for the first DIABLO components as it typically captures the highest variance/correlation that separates classes across the datasets, while subsequent components may capture additional, sometimes subtler, patterns."
   ],
   "metadata": {
    "collapsed": false
   },
   "id": "a5ba948ba298ef3a"
  },
  {
   "cell_type": "code",
   "execution_count": 56,
   "outputs": [
    {
     "data": {
      "image/png": "[encoded data removed]",
      "text/plain": "<IPython.core.display.Image object>"
     },
     "metadata": {},
     "output_type": "display_data"
    }
   ],
   "source": [
    "%%R\n",
    "color_map <- c('darkturquoise', 'mediumvioletred')\n",
    "plotDiablo(final.diablo.model, ncomp = 1, legend = TRUE, col = color_map)"
   ],
   "metadata": {
    "collapsed": false,
    "ExecuteTime": {
     "end_time": "2024-06-21T14:09:59.768964500Z",
     "start_time": "2024-06-21T14:09:59.694635600Z"
    }
   },
   "id": "4b69c2710c304e29"
  },
  {
   "cell_type": "markdown",
   "source": [
    "### Evaluation of the Performance of the Model"
   ],
   "metadata": {
    "collapsed": false
   },
   "id": "cd77adf721352656"
  },
  {
   "cell_type": "code",
   "execution_count": 57,
   "outputs": [
    {
     "name": "stdout",
     "output_type": "stream",
     "text": [
      "  0   1   2   4   6   9  10  11  14  15  16  18  19  22  25  30  33  34  35  37 \n",
      "\"0\" \"0\" \"0\" \"0\" \"0\" \"0\" \"0\" \"0\" \"0\" \"0\" \"1\" \"0\" \"0\" \"0\" \"1\" \"0\" \"0\" \"0\" \"0\" \"0\" \n",
      " 38  39  43  49  53  62  64  67  68  69  73  75  76  78  79  80  83  89 \n",
      "\"1\" \"1\" \"0\" \"0\" \"0\" \"0\" \"0\" \"0\" \"1\" \"1\" \"0\" \"1\" \"0\" \"0\" \"0\" \"0\" \"1\" \"1\" \n"
     ]
    }
   ],
   "source": [
    "%%R\n",
    "predict.diablo = predict(final.diablo.model, newdata = X.test)\n",
    "# For each component, we predict the test set\n",
    "y_pred <- predict.diablo$WeightedVote$mahalanobis.dist[,ncomp]\n",
    "print(y_pred)"
   ],
   "metadata": {
    "collapsed": false,
    "ExecuteTime": {
     "end_time": "2024-06-21T14:10:03.298421900Z",
     "start_time": "2024-06-21T14:10:02.541853600Z"
    }
   },
   "id": "61f2cded97de3116"
  },
  {
   "cell_type": "code",
   "execution_count": 58,
   "outputs": [
    {
     "data": {
      "image/png": "[encoded data removed]",
      "text/plain": "<IPython.core.display.Image object>"
     },
     "metadata": {},
     "output_type": "display_data"
    }
   ],
   "source": [
    "%%R\n",
    "plotIndiv(final.diablo.model, ind.names = FALSE, legend = TRUE, \n",
    " title = 'DIABLO Sample Plots')"
   ],
   "metadata": {
    "collapsed": false,
    "ExecuteTime": {
     "end_time": "2024-06-21T14:10:05.557759900Z",
     "start_time": "2024-06-21T14:10:05.265468200Z"
    }
   },
   "id": "e0fd483417cc15b4"
  },
  {
   "cell_type": "code",
   "execution_count": 59,
   "outputs": [
    {
     "name": "stdout",
     "output_type": "stream",
     "text": [
      "Accuracy of the model: 0.7632\n",
      "Recall of the model: 0.7632\n",
      "Precision of the model: 0.7726\n",
      "Weighted F1 score of the model: 0.7673\n",
      "Matthews Correlation Coefficient of the model: 0.3699\n"
     ]
    },
    {
     "data": {
      "text/plain": "<Figure size 640x480 with 2 Axes>",
      "image/png": "[encoded data removed]"
     },
     "metadata": {},
     "output_type": "display_data"
    }
   ],
   "source": [
    "# Back to python!\n",
    "# Final evaluation of the model\n",
    "y_pred = %R y_pred\n",
    "# Cast the predictions to integer\n",
    "y_pred = y_pred.astype(int)\n",
    "evaluate_model(Y_test, y_pred)\n",
    "plot_confusion_matrix(Y_test, y_pred, 27)"
   ],
   "metadata": {
    "collapsed": false,
    "ExecuteTime": {
     "end_time": "2024-06-21T14:11:28.176433400Z",
     "start_time": "2024-06-21T14:11:28.003645400Z"
    }
   },
   "id": "cbdc178b4fd81c1d"
  },
  {
   "cell_type": "markdown",
   "source": [
    "### Loading Plots\n",
    "Loadings are vectors with the weight of each original variable's contribution to the corresponding latent component. Here, we visualize the importance for selected features for each component."
   ],
   "metadata": {
    "collapsed": false
   },
   "id": "ed324d8b716b931c"
  },
  {
   "cell_type": "code",
   "execution_count": 26,
   "outputs": [
    {
     "data": {
      "image/png": "[encoded data removed]",
      "text/plain": "<IPython.core.display.Image object>"
     },
     "metadata": {},
     "output_type": "display_data"
    }
   ],
   "source": [
    "%%R\n",
    "# Feature Importance for the 1sst component\n",
    "plotLoadings(final.diablo.model, comp = 1, contrib = 'max', method = 'median')"
   ],
   "metadata": {
    "collapsed": false,
    "ExecuteTime": {
     "end_time": "2024-06-21T14:08:22.532575800Z",
     "start_time": "2024-06-21T14:08:22.341867200Z"
    }
   },
   "id": "6ab3e17c8ebf07d1"
  },
  {
   "cell_type": "code",
   "execution_count": 27,
   "outputs": [
    {
     "data": {
      "image/png": "[encoded data removed]",
      "text/plain": "<IPython.core.display.Image object>"
     },
     "metadata": {},
     "output_type": "display_data"
    }
   ],
   "source": [
    "%%R\n",
    "# Feature Importance for the 2nd component\n",
    "plotLoadings(final.diablo.model, comp = 2, contrib = 'max', method = 'median')"
   ],
   "metadata": {
    "collapsed": false,
    "ExecuteTime": {
     "end_time": "2024-06-21T14:08:22.614984400Z",
     "start_time": "2024-06-21T14:08:22.527070200Z"
    }
   },
   "id": "d2d4ee0813dcc279"
  },
  {
   "cell_type": "code",
   "execution_count": 28,
   "outputs": [
    {
     "data": {
      "image/png": "[encoded data removed]",
      "text/plain": "<IPython.core.display.Image object>"
     },
     "metadata": {},
     "output_type": "display_data"
    }
   ],
   "source": [
    "%%R\n",
    "# Feature Importance for the 3rd component\n",
    "plotLoadings(final.diablo.model, comp = 3, contrib = 'max', method = 'median')"
   ],
   "metadata": {
    "collapsed": false,
    "ExecuteTime": {
     "end_time": "2024-06-21T14:08:22.726319800Z",
     "start_time": "2024-06-21T14:08:22.614984400Z"
    }
   },
   "id": "d9ee0c7d5f9952b9"
  },
  {
   "cell_type": "markdown",
   "source": [
    "### Diablo Arrow Plot\n",
    "This plot shows the agreement between all data sets at the sample level. The start of the arrow indicates the centroid between all data sets for a given sample and the tips of the arrows indicate the location of that sample in each block."
   ],
   "metadata": {
    "collapsed": false
   },
   "id": "b4daae203f08311"
  },
  {
   "cell_type": "code",
   "execution_count": 29,
   "outputs": [
    {
     "data": {
      "image/png": "[encoded data removed]",
      "text/plain": "<IPython.core.display.Image object>"
     },
     "metadata": {},
     "output_type": "display_data"
    }
   ],
   "source": [
    "%%R\n",
    "plotArrow(\n",
    "    final.diablo.model, ind.names = FALSE, \n",
    "    legend = TRUE, title = 'DIABLO Arrow Plot', col = color_map)"
   ],
   "metadata": {
    "collapsed": false,
    "ExecuteTime": {
     "end_time": "2024-06-21T14:08:23.397831200Z",
     "start_time": "2024-06-21T14:08:22.718814700Z"
    }
   },
   "id": "8a6302eeef422748"
  },
  {
   "cell_type": "markdown",
   "source": [
    "Now I will save the features selected by the DIABLO model to a csv file"
   ],
   "metadata": {
    "collapsed": false
   },
   "id": "d93452ec2cc5b209"
  },
  {
   "cell_type": "code",
   "execution_count": 30,
   "outputs": [
    {
     "name": "stdout",
     "output_type": "stream",
     "text": [
      "            Feature Coefficient        Block Component\n",
      "PUFA.FA     PUFA.FA   0.2300838 Metabolomics         1\n",
      "FAW6.FA     FAW6.FA   0.2174727 Metabolomics         1\n",
      "VLDL.D       VLDL.D  -0.2163167 Metabolomics         1\n",
      "L.VLDL.TG L.VLDL.TG  -0.2051405 Metabolomics         1\n",
      "VLDL.TG     VLDL.TG  -0.2049874 Metabolomics         1\n",
      "L.VLDL.P   L.VLDL.P  -0.2016867 Metabolomics         1\n"
     ]
    }
   ],
   "source": [
    "%%R\n",
    "# Save the features selected by the DIABLO model\n",
    "\n",
    "results <- data.frame()\n",
    "\n",
    "\n",
    "for (i in 1:ncomp) {\n",
    "  # Get the selected features for each component i\n",
    "  selected_metabolites <- selectVar(final.diablo.model, block='Metabolomics', comp=i)$Metabolomics\n",
    "  selected_lipids <- selectVar(final.diablo.model, block='Lipidomics', comp=i)$Lipidomics\n",
    "  selected_proteins <- selectVar(final.diablo.model, block='Proteomics', comp=i)$Proteomics\n",
    "  \n",
    "  metabolites_feature_names <- rownames(selected_metabolites$value)\n",
    "  metabolites_feature_values <- selected_metabolites$value\n",
    "  metabolites_block <- rep(\"Metabolomics\", length(metabolites_feature_names))\n",
    "  metabolites_comp <- rep(i, length(metabolites_feature_names))\n",
    "  \n",
    "  lipids_feature_names <- rownames(selected_lipids$value)\n",
    "  lipids_feature_values <- selected_lipids$value\n",
    "  lipids_block <- rep(\"Lipidomics\", length(lipids_feature_names))\n",
    "  lipids_comp <- rep(i, length(lipids_feature_names))\n",
    "  \n",
    "  proteins_feature_names <- rownames(selected_proteins$value)\n",
    "  proteins_feature_values <- selected_proteins$value\n",
    "  proteins_block <- rep(\"Proteomics\", length(proteins_feature_names))\n",
    "  proteins_comp <- rep(i, length(proteins_feature_names))\n",
    "  \n",
    "  # Create data frames for each block\n",
    "  metabolites_df <- data.frame(\n",
    "    Feature = metabolites_feature_names, \n",
    "    Value = metabolites_feature_values, \n",
    "    Block = metabolites_block, \n",
    "    Component = metabolites_comp)\n",
    "    \n",
    "  lipids_df <- data.frame(\n",
    "    Feature = lipids_feature_names, \n",
    "    Value = lipids_feature_values, \n",
    "    Block = lipids_block, \n",
    "    Component = lipids_comp)\n",
    "    \n",
    "  proteins_df <- data.frame(\n",
    "    Feature = proteins_feature_names, \n",
    "    Value = proteins_feature_values, \n",
    "    Block = proteins_block, \n",
    "    Component = proteins_comp)\n",
    "  \n",
    "  result <- rbind(metabolites_df, lipids_df, proteins_df)\n",
    "  # Append to the main results data frame\n",
    "  results <- rbind(results, result)\n",
    "}\n",
    "\n",
    "# Rename the columns\n",
    "colnames(results) <- c(\"Feature\", \"Coefficient\", \"Block\", \"Component\")\n",
    "head(results)"
   ],
   "metadata": {
    "collapsed": false,
    "ExecuteTime": {
     "end_time": "2024-06-21T14:08:23.485454900Z",
     "start_time": "2024-06-21T14:08:23.397831200Z"
    }
   },
   "id": "c9de846494f04e30"
  },
  {
   "cell_type": "code",
   "execution_count": 31,
   "outputs": [],
   "source": [
    "%%R\n",
    "# Save the results to a csv file\n",
    "RESULTS_PATH <- \"C:/Users/mjgoj/PycharmProjects/ThesisFinal/results/\"\n",
    "write.csv(results, paste0(RESULTS_PATH, \"diablo_features.csv\"), row.names=FALSE)"
   ],
   "metadata": {
    "collapsed": false,
    "ExecuteTime": {
     "end_time": "2024-06-21T14:08:23.541318400Z",
     "start_time": "2024-06-21T14:08:23.461548800Z"
    }
   },
   "id": "96adae90b32e595f"
  }
 ],
 "metadata": {
  "kernelspec": {
   "display_name": "Python 3",
   "language": "python",
   "name": "python3"
  },
  "language_info": {
   "codemirror_mode": {
    "name": "ipython",
    "version": 2
   },
   "file_extension": ".py",
   "mimetype": "text/x-python",
   "name": "python",
   "nbconvert_exporter": "python",
   "pygments_lexer": "ipython2",
   "version": "2.7.6"
  }
 },
 "nbformat": 4,
 "nbformat_minor": 5
}
