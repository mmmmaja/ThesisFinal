{
 "cells": [
  {
   "cell_type": "markdown",
   "source": [
    "**ANOVA Correlation**\n",
    "- Filter method\n",
    "- Assumes liner relationship between the feature and the target variable (!)\n",
    "- Selects the top k features that have the highest correlation to the target variable\n",
    "\n",
    "**Variance Filtering**\n",
    "- Filter method\n",
    "- Removes features with low variance\n",
    "- might be on different scales(!!!)\n",
    "- (could be each omics data individually)\n",
    "    \n",
    "**Mutual Information based Feature Selection (MIFS)**\n",
    "- Measures how much information the presence/absence of a feature contributes to making the correct prediction on Y\n",
    "- Can capture nonlinear relationships between features and the target variable\n",
    "- [MIFS-ND: A mutual information-based feature selection method](https://www.sciencedirect.com/science/article/pii/S0957417414002164#:~:text=A%20mutual%20information%2Dbased%20feature%20selection%20algorithm%20called%20MIFS%20is,mutual%20information%20for%20feature%20selection)\n",
    "\n",
    "Individually!!!\n",
    "all the omics datasets must be represented\n",
    "### TODO\n",
    "**RelieF** (Especially this, it's mentioned in every paper)\n",
    "**Fast Correlated Based Filter**\n",
    "**Measure REDUNDANCY** (Using mutual information)   \n",
    "\n",
    "\n",
    "**Recursive Feature Elimination (RFE)**\n",
    "- Wrapper approach to feature selection\n",
    "- There are many algorithms that can choose the best features\n",
    "- Starts with all features and removes the least important one at each iteration\n",
    "\n",
    "num features\n",
    "speed of the model\n",
    "\n",
    "\n",
    "\n",
    "interpretability\n",
    "- has the found feature already been studied with Alzheimer's disease?\n",
    "similarity network fusion, (was god for prediction)\n",
    "mixOmics package (kkeping datasets seperate) -> data integration\n",
    "- multi block approach\n",
    "- diablo pls-da multi block vs pls-da with concatenated comparison\n",
    "check proportion of features that comes out (we want to have all the data types)\n",
    "PCA just visualization (if there are big disprepancies more processing is needed!)\n",
    "loadings plots (color each point by the type of omics data)\n",
    "scores plot look for outliers\n",
    "\n",
    "feature selection 2 steps (which needed - both ? first? second? why)\n",
    "make a pipeline, build exact same models, evaluate feature selection steps\n",
    "why baseline selection (have to motivate)\n",
    "to slow, noise, overfitting -> less interpretable selection\n",
    "num of features????\n",
    "\n",
    "guild.ai - track results of different experiments (very cool!)\n",
    "optuna - optimizing hyperparams\n",
    "\n",
    "correlated features - might be problem for SHAP (but we loose on interpretation - might put them back)"
   ],
   "metadata": {
    "collapsed": false
   },
   "id": "5e1762f20f508b9"
  },
  {
   "cell_type": "markdown",
   "source": [
    "### Questions\n",
    "- Categorical features in the dataset\n",
    "- How to evaluate the performance of the feature selection methods?\n",
    "(I cannot just evaluate all of them on some ML model since it might favour different features)\n",
    "- Explainability\n",
    "- When to perform Pathway Analysis?\n",
    "- How to assess number of features to select?\n",
    "**(Plot Performance vs. Number of Features)**"
   ],
   "metadata": {
    "collapsed": false
   },
   "id": "2f4c20e6d703a1c5"
  },
  {
   "cell_type": "code",
   "execution_count": 1,
   "outputs": [],
   "source": [
    "import sys\n",
    "import pandas as pd\n",
    "import numpy as np\n",
    "import matplotlib.pyplot as plt\n",
    "from matplotlib_venn import venn3, venn2\n",
    "from sklearn.datasets import load_iris\n",
    "from sklearn.feature_selection import SelectKBest, VarianceThreshold\n",
    "from sklearn.feature_selection import f_classif\n",
    "from sklearn.feature_selection import mutual_info_classif\n",
    "from sklearn.tree import DecisionTreeClassifier\n",
    "from sklearn.feature_selection import RFE\n",
    "from sklearn.ensemble import RandomForestClassifier"
   ],
   "metadata": {
    "collapsed": false,
    "ExecuteTime": {
     "end_time": "2024-02-21T11:24:09.622527800Z",
     "start_time": "2024-02-21T11:24:08.217611900Z"
    }
   },
   "id": "initial_id"
  },
  {
   "cell_type": "code",
   "execution_count": 2,
   "outputs": [
    {
     "name": "stdout",
     "output_type": "stream",
     "text": [
      "Initial shape of X:  (96, 1123)\n"
     ]
    }
   ],
   "source": [
    "# Load data\n",
    "# path = \"C:/Users/mjgoj/Desktop/THESIS/data/OMICS_data.csv\"\n",
    "path = \"C:/Users/mjgoj/Desktop/THESIS/data/OMICS_data_updated.csv\"\n",
    "# Load the dataset\n",
    "data = pd.read_csv(path)\n",
    "\n",
    "Y = data[['ThreeClass']]\n",
    "# Change the shape of y to (n_samples, )\n",
    "Y = np.ravel(Y)\n",
    "\n",
    "X = data.drop(['TwoClass'], axis=1)\n",
    "print(\"Initial shape of X: \", X.shape)"
   ],
   "metadata": {
    "collapsed": false,
    "ExecuteTime": {
     "end_time": "2024-02-21T11:24:09.705304200Z",
     "start_time": "2024-02-21T11:24:09.622527800Z"
    }
   },
   "id": "dca8e7524e4d6ec1"
  },
  {
   "cell_type": "code",
   "execution_count": 3,
   "outputs": [
    {
     "name": "stdout",
     "output_type": "stream",
     "text": [
      "0     0\n",
      "1     0\n",
      "2     0\n",
      "3     0\n",
      "4     0\n",
      "     ..\n",
      "91    0\n",
      "92    0\n",
      "93    0\n",
      "94    0\n",
      "95    0\n",
      "Name: TAG_HIGH_ETHANOL, Length: 96, dtype: int64\n"
     ]
    }
   ],
   "source": [
    "# Find the categorical features\n",
    "\"\"\"\n",
    "TAG_LOW_GLUCOSE\n",
    "TAG_HIGH_PYRUVATE\n",
    "TAG_HIGH_LACTATE\n",
    "TAG_UNEXPECTED_AMINO_ACID_SIGNALS\n",
    "TAG_LOW_GLUTAMINE_HIGH_GLUTAMATE\n",
    "TAG_LOW_PROTEIN_CONTENT\n",
    "TAG_PLASMA_SAMPLE\n",
    "TAG_HIGH_ETHANOL\n",
    "\"\"\"\n",
    "# get values for each categorical feature\n",
    "#print(X['Feature update_stamp.x'])\n",
    "print(X['TAG_HIGH_ETHANOL'])"
   ],
   "metadata": {
    "collapsed": false,
    "ExecuteTime": {
     "end_time": "2024-02-21T11:24:09.717739700Z",
     "start_time": "2024-02-21T11:24:09.705304200Z"
    }
   },
   "id": "7bff9023e9669050"
  },
  {
   "cell_type": "code",
   "execution_count": 4,
   "outputs": [
    {
     "name": "stdout",
     "output_type": "stream",
     "text": [
      "Categorical features:  ['TAG_LOW_GLUCOSE', 'TAG_HIGH_PYRUVATE', 'TAG_HIGH_LACTATE', 'TAG_UNEXPECTED_AMINO_ACID_SIGNALS', 'TAG_LOW_GLUTAMINE_HIGH_GLUTAMATE', 'TAG_LOW_PROTEIN_CONTENT', 'TAG_PLASMA_SAMPLE', 'TAG_HIGH_ETHANOL']\n"
     ]
    }
   ],
   "source": [
    "categorical = [col for col in X.columns if X[col].nunique() < 3]\n",
    "print(\"Categorical features: \", categorical)\n",
    "\n",
    "# Remove the categorical features\n",
    "X = X.drop(categorical, axis=1)"
   ],
   "metadata": {
    "collapsed": false,
    "ExecuteTime": {
     "end_time": "2024-02-21T11:24:09.840273500Z",
     "start_time": "2024-02-21T11:24:09.714347500Z"
    }
   },
   "id": "cd90867938d280dd"
  },
  {
   "cell_type": "code",
   "execution_count": 5,
   "outputs": [
    {
     "name": "stdout",
     "output_type": "stream",
     "text": [
      "<class 'numpy.ndarray'>\n"
     ]
    }
   ],
   "source": [
    "print(type(Y))"
   ],
   "metadata": {
    "collapsed": false,
    "ExecuteTime": {
     "end_time": "2024-02-21T11:24:09.841275100Z",
     "start_time": "2024-02-21T11:24:09.814843500Z"
    }
   },
   "id": "36bc8ece9312cfe1"
  },
  {
   "cell_type": "code",
   "execution_count": 6,
   "outputs": [],
   "source": [
    "def venn_diagram(set_lists, set_labels):\n",
    "    \"\"\"\n",
    "    Create a Venn diagram for 2 or 3 sets\n",
    "    :param set_lists: list of sets of features\n",
    "    :param set_labels: list of the filtering methods used\n",
    "    \"\"\"\n",
    "    if len(set_lists) == 2:\n",
    "        venn2(set_lists, set_labels)\n",
    "    elif len(set_lists) == 3:\n",
    "        venn3(set_lists, set_labels)\n",
    "    plt.show()"
   ],
   "metadata": {
    "collapsed": false,
    "ExecuteTime": {
     "end_time": "2024-02-21T11:24:09.842274600Z",
     "start_time": "2024-02-21T11:24:09.822236300Z"
    }
   },
   "id": "7f0e13caa43b158b"
  },
  {
   "cell_type": "code",
   "execution_count": 7,
   "outputs": [],
   "source": [
    "def ANOVA_correlation_filtering(k, X_, Y_):\n",
    "    \"\"\"\n",
    "    ANOVA F-value statistics to select the top k features\n",
    "    that have the highest correlation to the target variable\n",
    "    :param k: the number of features to select\n",
    "    :param X_: the feature matrix\n",
    "    :param Y_: the class labels\n",
    "    \"\"\"\n",
    "    selector = SelectKBest(f_classif, k=k)  # Selects the top 10 features\n",
    "    X_new = selector.fit_transform(X_, Y_)\n",
    "    print(\"Shape of X after ANOVA filtering: \", X_new.shape)\n",
    "    # Return the names of the columns that were picked\n",
    "    features = X.columns[selector.get_support()]\n",
    "    return features"
   ],
   "metadata": {
    "collapsed": false,
    "ExecuteTime": {
     "end_time": "2024-02-21T11:24:09.844276900Z",
     "start_time": "2024-02-21T11:24:09.827634900Z"
    }
   },
   "id": "8892ba0a4188e615"
  },
  {
   "cell_type": "code",
   "execution_count": 8,
   "outputs": [],
   "source": [
    "def variance_filtering(samples_percentage, X_):\n",
    "    \"\"\"\n",
    "    Removing features with low variance\n",
    "    :param samples_percentage: the percentage of samples that should have the same value for a feature to be removed\n",
    "    :param X_: the feature matrix\n",
    "    \"\"\"\n",
    "    sel = VarianceThreshold(threshold=(samples_percentage * (1 - samples_percentage)))\n",
    "    X_ = sel.fit_transform(X_)\n",
    "    print(\"Shape of X after variance filtering: \", X_.shape)\n",
    "    # Return the names of the columns that were picked\n",
    "    features = X.columns[sel.get_support()]\n",
    "    return features"
   ],
   "metadata": {
    "collapsed": false,
    "ExecuteTime": {
     "end_time": "2024-02-21T11:24:09.860005400Z",
     "start_time": "2024-02-21T11:24:09.836747600Z"
    }
   },
   "id": "fe11b562296c87d8"
  },
  {
   "cell_type": "code",
   "execution_count": 9,
   "outputs": [],
   "source": [
    "def mutual_information_filtering(k, X_, Y_):\n",
    "    \"\"\"\n",
    "    Mutual Information based Feature Selection (MIFS)\n",
    "    Mutual information statistics to select the top k features\n",
    "    that have the highest correlation to the target variable\n",
    "    \n",
    "    Measures how much information the presence/absence of a feature \n",
    "    contributes to making the correct prediction on Y\n",
    "    \n",
    "    :param k: the number of features to select\n",
    "    :param X_: the feature matrix\n",
    "    :param Y_: the class labels\n",
    "    \"\"\"\n",
    "    \n",
    "    selector = SelectKBest(mutual_info_classif, k=k)\n",
    "    X_new = selector.fit_transform(X_, Y_)\n",
    "    print(\"Shape of X after mutual information filtering: \", X_new.shape)\n",
    "    # Return the names of the columns that were picked\n",
    "    features = X.columns[selector.get_support()]\n",
    "    return features"
   ],
   "metadata": {
    "collapsed": false,
    "ExecuteTime": {
     "end_time": "2024-02-21T11:24:09.862013100Z",
     "start_time": "2024-02-21T11:24:09.845274500Z"
    }
   },
   "id": "584674adc12d0cf1"
  },
  {
   "cell_type": "code",
   "execution_count": 10,
   "outputs": [],
   "source": [
    "def recursive_feature_elimination(k, X_, Y_, estimator=DecisionTreeClassifier()):\n",
    "    \"\"\"\n",
    "    Wrapper approach to feature selection\n",
    "    Starts with all features and removes the least important one at each iteration\n",
    "    :param k: number of features to select\n",
    "    :param X_: the feature matrix\n",
    "    :param Y_: the class labels\n",
    "    :param estimator: the model used to evaluate the importance of features\n",
    "        DecisionTreeClassifier\n",
    "        RandomForestClassifier\n",
    "        \n",
    "    \"\"\"\n",
    "\n",
    "    selector = RFE(estimator, n_features_to_select=k, step=1)\n",
    "    X_new = selector.fit_transform(X_, Y_)\n",
    "    print(\"Shape of X after RFE: \", X_new.shape)\n",
    "    # Return the names of the columns that were picked\n",
    "    features = X.columns[selector.get_support()]\n",
    "    return features"
   ],
   "metadata": {
    "collapsed": false,
    "ExecuteTime": {
     "end_time": "2024-02-21T11:24:09.953692300Z",
     "start_time": "2024-02-21T11:24:09.856730300Z"
    }
   },
   "id": "bbeb8c4229cc6ae6"
  },
  {
   "cell_type": "code",
   "execution_count": 11,
   "outputs": [
    {
     "name": "stdout",
     "output_type": "stream",
     "text": [
      "Shape of X after variance filtering:  (96, 671)\n",
      "Shape of X after ANOVA filtering:  (96, 200)\n"
     ]
    },
    {
     "name": "stderr",
     "output_type": "stream",
     "text": [
      "C:\\Users\\mjgoj\\miniconda3\\Lib\\site-packages\\sklearn\\feature_selection\\_univariate_selection.py:113: RuntimeWarning: divide by zero encountered in divide\n",
      "  f = msb / msw\n"
     ]
    }
   ],
   "source": [
    "all_features = set(X.columns)\n",
    "variance_filtered_features = set(variance_filtering(0.75, X))\n",
    "correlation_filtered_features = set(ANOVA_correlation_filtering(200, X, Y))"
   ],
   "metadata": {
    "collapsed": false,
    "ExecuteTime": {
     "end_time": "2024-02-21T11:24:09.975925800Z",
     "start_time": "2024-02-21T11:24:09.864015Z"
    }
   },
   "id": "ae469cb169a1f4f1"
  },
  {
   "cell_type": "code",
   "execution_count": 12,
   "outputs": [
    {
     "name": "stdout",
     "output_type": "stream",
     "text": [
      "Shape of X after mutual information filtering:  (96, 200)\n",
      "Shape of X after RFE:  (96, 200)\n"
     ]
    }
   ],
   "source": [
    "mutual_info_filtered_features = set(mutual_information_filtering(200, X, Y))\n",
    "recursive_filtered_features = set(recursive_feature_elimination(200, X, Y))"
   ],
   "metadata": {
    "collapsed": false,
    "ExecuteTime": {
     "end_time": "2024-02-21T11:24:28.876101300Z",
     "start_time": "2024-02-21T11:24:09.918867900Z"
    }
   },
   "id": "1d0755def68ac47"
  },
  {
   "cell_type": "code",
   "execution_count": 13,
   "outputs": [
    {
     "data": {
      "text/plain": "<Figure size 640x480 with 1 Axes>",
      "image/png": "[encoded data removed]"
     },
     "metadata": {},
     "output_type": "display_data"
    },
    {
     "data": {
      "text/plain": "<Figure size 640x480 with 1 Axes>",
      "image/png": "[encoded data removed]"
     },
     "metadata": {},
     "output_type": "display_data"
    }
   ],
   "source": [
    "venn_diagram(\n",
    "    [mutual_info_filtered_features, recursive_filtered_features, correlation_filtered_features],\n",
    "    (\"Mutual information\", \"RFE\", \"ANOVA correlation\")\n",
    ")\n",
    "\n",
    "venn_diagram(\n",
    "    [recursive_filtered_features, variance_filtered_features, correlation_filtered_features],\n",
    "    (\"RFE\", \"Variance\", \"ANOVA correlation\")\n",
    ")"
   ],
   "metadata": {
    "collapsed": false,
    "ExecuteTime": {
     "end_time": "2024-02-21T11:24:29.207449900Z",
     "start_time": "2024-02-21T11:24:28.870571800Z"
    }
   },
   "id": "8f878c644a915f88"
  },
  {
   "cell_type": "code",
   "execution_count": 14,
   "outputs": [
    {
     "name": "stderr",
     "output_type": "stream",
     "text": [
      "C:\\Users\\mjgoj\\miniconda3\\Lib\\site-packages\\rpy2\\robjects\\packages.py:367: UserWarning: The symbol 'quartz' is not in this R namespace/package.\n",
      "  warnings.warn(\n"
     ]
    }
   ],
   "source": [
    "%load_ext rpy2.ipython"
   ],
   "metadata": {
    "collapsed": false,
    "ExecuteTime": {
     "end_time": "2024-02-21T11:24:31.217921800Z",
     "start_time": "2024-02-21T11:24:29.202446800Z"
    }
   },
   "id": "7ab925a5b7f90756"
  },
  {
   "cell_type": "code",
   "execution_count": 15,
   "outputs": [],
   "source": [
    "# Conversion to R\n",
    "variance = list(variance_filtered_features)\n",
    "recursive = list(recursive_filtered_features)\n",
    "mutual_info = list(mutual_info_filtered_features)\n",
    "correlation = list(correlation_filtered_features)\n",
    "all = list(all_features)\n",
    "\n",
    "%R -i variance -i recursive -i mutual_info -i correlation -i all"
   ],
   "metadata": {
    "collapsed": false,
    "ExecuteTime": {
     "end_time": "2024-02-21T11:24:31.302441600Z",
     "start_time": "2024-02-21T11:24:31.218922700Z"
    }
   },
   "id": "dbe102022aaad0b8"
  },
  {
   "cell_type": "code",
   "execution_count": 16,
   "outputs": [
    {
     "name": "stdout",
     "output_type": "stream",
     "text": [
      "[1] \"#FBB4AE\" \"#B3CDE3\" \"#CCEBC5\" \"#DECBE4\" \"#FED9A6\"\n"
     ]
    },
    {
     "data": {
      "text/plain": "Loading required package: grid\nLoading required package: futile.logger\n"
     },
     "metadata": {},
     "output_type": "display_data"
    },
    {
     "data": {
      "image/png": "[encoded data removed]",
      "text/plain": "<IPython.core.display.Image object>"
     },
     "metadata": {},
     "output_type": "display_data"
    }
   ],
   "source": [
    "%%R -i variance -i recursive -i mutual_info -i correlation -i all\n",
    "library(VennDiagram)\n",
    "\n",
    "library(RColorBrewer)\n",
    "colors <- brewer.pal(5, \"Pastel1\")\n",
    "print(colors)\n",
    "\n",
    "# Assuming 'variance', 'recursive', etc., are correctly passed as lists from Python\n",
    "x <- list(\n",
    "  Variance = variance,\n",
    "  Recursive = recursive,\n",
    "  MutualInfo = mutual_info,\n",
    "  Correlation = correlation,\n",
    "    All = all\n",
    ")\n",
    "\n",
    "# Generate and display the Venn diagram\n",
    "# Note: For more than 3 sets, consider using alternative visualization techniques\n",
    "venn.plot <- venn.diagram(\n",
    "    x = x,\n",
    "    filename = NULL,\n",
    "    # Circles\n",
    "    lwd = 1, lty = 'blank', fill = colors,\n",
    "    compression = \"lzw\",\n",
    "    resolution = 500,\n",
    "    # Numbers\n",
    "    cex = .9, fontface = \"italic\",\n",
    "    # Labels\n",
    "    cat.cex = 1, cat.fontface = \"bold\", cat.default.pos = \"outer\"\n",
    "\n",
    ")\n",
    "\n",
    "# Display the plot\n",
    "grid.draw(venn.plot)\n",
    "  "
   ],
   "metadata": {
    "collapsed": false,
    "ExecuteTime": {
     "end_time": "2024-02-21T11:24:31.886101100Z",
     "start_time": "2024-02-21T11:24:31.273161Z"
    }
   },
   "id": "36050007e514362b"
  },
  {
   "cell_type": "code",
   "execution_count": 16,
   "outputs": [],
   "source": [],
   "metadata": {
    "collapsed": false,
    "ExecuteTime": {
     "end_time": "2024-02-21T11:24:31.889625800Z",
     "start_time": "2024-02-21T11:24:31.883565700Z"
    }
   },
   "id": "b8e64ef81f28f51e"
  }
 ],
 "metadata": {
  "kernelspec": {
   "display_name": "Python 3",
   "language": "python",
   "name": "python3"
  },
  "language_info": {
   "codemirror_mode": {
    "name": "ipython",
    "version": 2
   },
   "file_extension": ".py",
   "mimetype": "text/x-python",
   "name": "python",
   "nbconvert_exporter": "python",
   "pygments_lexer": "ipython2",
   "version": "2.7.6"
  }
 },
 "nbformat": 4,
 "nbformat_minor": 5
}
